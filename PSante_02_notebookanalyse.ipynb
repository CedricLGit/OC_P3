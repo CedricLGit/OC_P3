{
 "cells": [
  {
   "cell_type": "code",
   "execution_count": 1,
   "id": "2e3cf7aa-31c1-4cd9-985f-890faeb8bfb0",
   "metadata": {},
   "outputs": [],
   "source": [
    "%matplotlib inline\n",
    "import numpy as np\n",
    "import pandas as pd\n",
    "import matplotlib.pyplot as plt\n",
    "import seaborn as sns\n",
    "from ipywidgets import interact, interactive, fixed, interact_manual\n",
    "import ipywidgets as widgets"
   ]
  },
  {
   "cell_type": "code",
   "execution_count": 2,
   "id": "cb6a4464-a459-440a-b5dc-2e550f787fff",
   "metadata": {},
   "outputs": [],
   "source": [
    "dataclean = pd.read_csv('Data/Dataclean.csv', low_memory = False)"
   ]
  },
  {
   "cell_type": "code",
   "execution_count": 3,
   "id": "6131868a-6971-4861-a0bd-1bb97eeeee1e",
   "metadata": {},
   "outputs": [
    {
     "data": {
      "text/html": [
       "<div>\n",
       "<style scoped>\n",
       "    .dataframe tbody tr th:only-of-type {\n",
       "        vertical-align: middle;\n",
       "    }\n",
       "\n",
       "    .dataframe tbody tr th {\n",
       "        vertical-align: top;\n",
       "    }\n",
       "\n",
       "    .dataframe thead th {\n",
       "        text-align: right;\n",
       "    }\n",
       "</style>\n",
       "<table border=\"1\" class=\"dataframe\">\n",
       "  <thead>\n",
       "    <tr style=\"text-align: right;\">\n",
       "      <th></th>\n",
       "      <th>code</th>\n",
       "      <th>product_name</th>\n",
       "      <th>brand</th>\n",
       "      <th>category</th>\n",
       "      <th>info_nutri_complete</th>\n",
       "      <th>pnns_group</th>\n",
       "      <th>nutriscore</th>\n",
       "      <th>nutriscore_grade</th>\n",
       "      <th>energy_kj</th>\n",
       "      <th>sugars</th>\n",
       "      <th>fat</th>\n",
       "      <th>saturated_fat</th>\n",
       "      <th>sodium</th>\n",
       "      <th>fiber</th>\n",
       "      <th>proteins</th>\n",
       "      <th>fruits_vegetables</th>\n",
       "    </tr>\n",
       "  </thead>\n",
       "  <tbody>\n",
       "    <tr>\n",
       "      <th>0</th>\n",
       "      <td>0000000000017</td>\n",
       "      <td>vitória crackers</td>\n",
       "      <td>NaN</td>\n",
       "      <td>NaN</td>\n",
       "      <td>1</td>\n",
       "      <td>unknown</td>\n",
       "      <td>NaN</td>\n",
       "      <td>NaN</td>\n",
       "      <td>1569.0</td>\n",
       "      <td>15.0</td>\n",
       "      <td>7.0</td>\n",
       "      <td>3.08</td>\n",
       "      <td>0.560</td>\n",
       "      <td>NaN</td>\n",
       "      <td>7.8</td>\n",
       "      <td>NaN</td>\n",
       "    </tr>\n",
       "    <tr>\n",
       "      <th>1</th>\n",
       "      <td>0000000000031</td>\n",
       "      <td>cacao</td>\n",
       "      <td>NaN</td>\n",
       "      <td>NaN</td>\n",
       "      <td>0</td>\n",
       "      <td>unknown</td>\n",
       "      <td>NaN</td>\n",
       "      <td>NaN</td>\n",
       "      <td>NaN</td>\n",
       "      <td>NaN</td>\n",
       "      <td>NaN</td>\n",
       "      <td>NaN</td>\n",
       "      <td>NaN</td>\n",
       "      <td>NaN</td>\n",
       "      <td>NaN</td>\n",
       "      <td>NaN</td>\n",
       "    </tr>\n",
       "    <tr>\n",
       "      <th>2</th>\n",
       "      <td>0000000000100</td>\n",
       "      <td>moutarde au moût de raisin</td>\n",
       "      <td>courte paille</td>\n",
       "      <td>epicerie,condiments,sauces,moutardes</td>\n",
       "      <td>1</td>\n",
       "      <td>dressings and sauces</td>\n",
       "      <td>18.0</td>\n",
       "      <td>d</td>\n",
       "      <td>936.0</td>\n",
       "      <td>22.0</td>\n",
       "      <td>8.2</td>\n",
       "      <td>2.20</td>\n",
       "      <td>1.840</td>\n",
       "      <td>0.0</td>\n",
       "      <td>5.1</td>\n",
       "      <td>NaN</td>\n",
       "    </tr>\n",
       "    <tr>\n",
       "      <th>3</th>\n",
       "      <td>00000000001111111111</td>\n",
       "      <td>sfiudwx</td>\n",
       "      <td>watt</td>\n",
       "      <td>xsf</td>\n",
       "      <td>0</td>\n",
       "      <td>unknown</td>\n",
       "      <td>NaN</td>\n",
       "      <td>NaN</td>\n",
       "      <td>NaN</td>\n",
       "      <td>NaN</td>\n",
       "      <td>NaN</td>\n",
       "      <td>NaN</td>\n",
       "      <td>NaN</td>\n",
       "      <td>NaN</td>\n",
       "      <td>NaN</td>\n",
       "      <td>NaN</td>\n",
       "    </tr>\n",
       "    <tr>\n",
       "      <th>4</th>\n",
       "      <td>0000000000123</td>\n",
       "      <td>sauce sweety chili 0%</td>\n",
       "      <td>NaN</td>\n",
       "      <td>NaN</td>\n",
       "      <td>1</td>\n",
       "      <td>unknown</td>\n",
       "      <td>NaN</td>\n",
       "      <td>NaN</td>\n",
       "      <td>88.0</td>\n",
       "      <td>0.4</td>\n",
       "      <td>0.0</td>\n",
       "      <td>0.00</td>\n",
       "      <td>0.816</td>\n",
       "      <td>NaN</td>\n",
       "      <td>0.2</td>\n",
       "      <td>NaN</td>\n",
       "    </tr>\n",
       "    <tr>\n",
       "      <th>...</th>\n",
       "      <td>...</td>\n",
       "      <td>...</td>\n",
       "      <td>...</td>\n",
       "      <td>...</td>\n",
       "      <td>...</td>\n",
       "      <td>...</td>\n",
       "      <td>...</td>\n",
       "      <td>...</td>\n",
       "      <td>...</td>\n",
       "      <td>...</td>\n",
       "      <td>...</td>\n",
       "      <td>...</td>\n",
       "      <td>...</td>\n",
       "      <td>...</td>\n",
       "      <td>...</td>\n",
       "      <td>...</td>\n",
       "    </tr>\n",
       "    <tr>\n",
       "      <th>789467</th>\n",
       "      <td>99999988</td>\n",
       "      <td>boules</td>\n",
       "      <td>NaN</td>\n",
       "      <td>NaN</td>\n",
       "      <td>1</td>\n",
       "      <td>unknown</td>\n",
       "      <td>NaN</td>\n",
       "      <td>NaN</td>\n",
       "      <td>1556.0</td>\n",
       "      <td>54.0</td>\n",
       "      <td>11.0</td>\n",
       "      <td>1.30</td>\n",
       "      <td>0.008</td>\n",
       "      <td>NaN</td>\n",
       "      <td>6.3</td>\n",
       "      <td>NaN</td>\n",
       "    </tr>\n",
       "    <tr>\n",
       "      <th>789468</th>\n",
       "      <td>9999999004360</td>\n",
       "      <td>minis beignets</td>\n",
       "      <td>NaN</td>\n",
       "      <td>snacks,snacks sucrés,beignets sucrés</td>\n",
       "      <td>1</td>\n",
       "      <td>unknown</td>\n",
       "      <td>15.0</td>\n",
       "      <td>d</td>\n",
       "      <td>1393.0</td>\n",
       "      <td>10.4</td>\n",
       "      <td>20.2</td>\n",
       "      <td>6.00</td>\n",
       "      <td>0.440</td>\n",
       "      <td>NaN</td>\n",
       "      <td>7.4</td>\n",
       "      <td>NaN</td>\n",
       "    </tr>\n",
       "    <tr>\n",
       "      <th>789469</th>\n",
       "      <td>99999995</td>\n",
       "      <td>steak haché pur boeuf</td>\n",
       "      <td>NaN</td>\n",
       "      <td>viandes,bœuf,steaks,steaks de bœuf,steaks hach...</td>\n",
       "      <td>1</td>\n",
       "      <td>meat</td>\n",
       "      <td>-2.0</td>\n",
       "      <td>a</td>\n",
       "      <td>548.0</td>\n",
       "      <td>0.0</td>\n",
       "      <td>5.0</td>\n",
       "      <td>2.30</td>\n",
       "      <td>0.072</td>\n",
       "      <td>NaN</td>\n",
       "      <td>21.5</td>\n",
       "      <td>NaN</td>\n",
       "    </tr>\n",
       "    <tr>\n",
       "      <th>789470</th>\n",
       "      <td>999999999</td>\n",
       "      <td>thé noir bio darjeeling</td>\n",
       "      <td>pagès</td>\n",
       "      <td>NaN</td>\n",
       "      <td>0</td>\n",
       "      <td>unknown</td>\n",
       "      <td>NaN</td>\n",
       "      <td>NaN</td>\n",
       "      <td>NaN</td>\n",
       "      <td>NaN</td>\n",
       "      <td>NaN</td>\n",
       "      <td>NaN</td>\n",
       "      <td>NaN</td>\n",
       "      <td>NaN</td>\n",
       "      <td>NaN</td>\n",
       "      <td>NaN</td>\n",
       "    </tr>\n",
       "    <tr>\n",
       "      <th>789471</th>\n",
       "      <td>9999999999994</td>\n",
       "      <td>light &amp; free skyr a boire</td>\n",
       "      <td>NaN</td>\n",
       "      <td>NaN</td>\n",
       "      <td>1</td>\n",
       "      <td>unknown</td>\n",
       "      <td>NaN</td>\n",
       "      <td>NaN</td>\n",
       "      <td>0.0</td>\n",
       "      <td>7.8</td>\n",
       "      <td>0.2</td>\n",
       "      <td>0.10</td>\n",
       "      <td>0.060</td>\n",
       "      <td>NaN</td>\n",
       "      <td>5.5</td>\n",
       "      <td>NaN</td>\n",
       "    </tr>\n",
       "  </tbody>\n",
       "</table>\n",
       "<p>789472 rows × 16 columns</p>\n",
       "</div>"
      ],
      "text/plain": [
       "                        code                  product_name          brand  \\\n",
       "0              0000000000017              vitória crackers            NaN   \n",
       "1              0000000000031                         cacao            NaN   \n",
       "2              0000000000100   moutarde au moût de raisin   courte paille   \n",
       "3       00000000001111111111                       sfiudwx           watt   \n",
       "4              0000000000123         sauce sweety chili 0%            NaN   \n",
       "...                      ...                           ...            ...   \n",
       "789467              99999988                        boules            NaN   \n",
       "789468         9999999004360                minis beignets            NaN   \n",
       "789469              99999995         steak haché pur boeuf            NaN   \n",
       "789470             999999999       thé noir bio darjeeling          pagès   \n",
       "789471         9999999999994     light & free skyr a boire            NaN   \n",
       "\n",
       "                                                 category  \\\n",
       "0                                                     NaN   \n",
       "1                                                     NaN   \n",
       "2                    epicerie,condiments,sauces,moutardes   \n",
       "3                                                     xsf   \n",
       "4                                                     NaN   \n",
       "...                                                   ...   \n",
       "789467                                                NaN   \n",
       "789468               snacks,snacks sucrés,beignets sucrés   \n",
       "789469  viandes,bœuf,steaks,steaks de bœuf,steaks hach...   \n",
       "789470                                                NaN   \n",
       "789471                                                NaN   \n",
       "\n",
       "        info_nutri_complete            pnns_group  nutriscore  \\\n",
       "0                         1               unknown         NaN   \n",
       "1                         0               unknown         NaN   \n",
       "2                         1  dressings and sauces        18.0   \n",
       "3                         0               unknown         NaN   \n",
       "4                         1               unknown         NaN   \n",
       "...                     ...                   ...         ...   \n",
       "789467                    1               unknown         NaN   \n",
       "789468                    1               unknown        15.0   \n",
       "789469                    1                  meat        -2.0   \n",
       "789470                    0               unknown         NaN   \n",
       "789471                    1               unknown         NaN   \n",
       "\n",
       "       nutriscore_grade  energy_kj  sugars   fat  saturated_fat  sodium  \\\n",
       "0                   NaN     1569.0    15.0   7.0           3.08   0.560   \n",
       "1                   NaN        NaN     NaN   NaN            NaN     NaN   \n",
       "2                     d      936.0    22.0   8.2           2.20   1.840   \n",
       "3                   NaN        NaN     NaN   NaN            NaN     NaN   \n",
       "4                   NaN       88.0     0.4   0.0           0.00   0.816   \n",
       "...                 ...        ...     ...   ...            ...     ...   \n",
       "789467              NaN     1556.0    54.0  11.0           1.30   0.008   \n",
       "789468                d     1393.0    10.4  20.2           6.00   0.440   \n",
       "789469                a      548.0     0.0   5.0           2.30   0.072   \n",
       "789470              NaN        NaN     NaN   NaN            NaN     NaN   \n",
       "789471              NaN        0.0     7.8   0.2           0.10   0.060   \n",
       "\n",
       "        fiber  proteins  fruits_vegetables  \n",
       "0         NaN       7.8                NaN  \n",
       "1         NaN       NaN                NaN  \n",
       "2         0.0       5.1                NaN  \n",
       "3         NaN       NaN                NaN  \n",
       "4         NaN       0.2                NaN  \n",
       "...       ...       ...                ...  \n",
       "789467    NaN       6.3                NaN  \n",
       "789468    NaN       7.4                NaN  \n",
       "789469    NaN      21.5                NaN  \n",
       "789470    NaN       NaN                NaN  \n",
       "789471    NaN       5.5                NaN  \n",
       "\n",
       "[789472 rows x 16 columns]"
      ]
     },
     "execution_count": 3,
     "metadata": {},
     "output_type": "execute_result"
    }
   ],
   "source": [
    "dataclean"
   ]
  },
  {
   "cell_type": "code",
   "execution_count": 4,
   "id": "4a908da4-5086-428d-8a31-56e7e9b9c560",
   "metadata": {},
   "outputs": [
    {
     "name": "stdout",
     "output_type": "stream",
     "text": [
      "<class 'pandas.core.frame.DataFrame'>\n",
      "RangeIndex: 789472 entries, 0 to 789471\n",
      "Data columns (total 16 columns):\n",
      " #   Column               Non-Null Count   Dtype  \n",
      "---  ------               --------------   -----  \n",
      " 0   code                 789472 non-null  object \n",
      " 1   product_name         767441 non-null  object \n",
      " 2   brand                418292 non-null  object \n",
      " 3   category             353482 non-null  object \n",
      " 4   info_nutri_complete  789472 non-null  int64  \n",
      " 5   pnns_group           789390 non-null  object \n",
      " 6   nutriscore           275387 non-null  float64\n",
      " 7   nutriscore_grade     275383 non-null  object \n",
      " 8   energy_kj            617648 non-null  float64\n",
      " 9   sugars               613736 non-null  float64\n",
      " 10  fat                  611579 non-null  float64\n",
      " 11  saturated_fat        614549 non-null  float64\n",
      " 12  sodium               598321 non-null  float64\n",
      " 13  fiber                137888 non-null  float64\n",
      " 14  proteins             613557 non-null  float64\n",
      " 15  fruits_vegetables    16454 non-null   float64\n",
      "dtypes: float64(9), int64(1), object(6)\n",
      "memory usage: 96.4+ MB\n"
     ]
    }
   ],
   "source": [
    "dataclean.info()"
   ]
  },
  {
   "cell_type": "code",
   "execution_count": 5,
   "id": "5154fc52-a108-4d55-86d6-741a3596c198",
   "metadata": {},
   "outputs": [
    {
     "data": {
      "text/html": [
       "<div>\n",
       "<style scoped>\n",
       "    .dataframe tbody tr th:only-of-type {\n",
       "        vertical-align: middle;\n",
       "    }\n",
       "\n",
       "    .dataframe tbody tr th {\n",
       "        vertical-align: top;\n",
       "    }\n",
       "\n",
       "    .dataframe thead th {\n",
       "        text-align: right;\n",
       "    }\n",
       "</style>\n",
       "<table border=\"1\" class=\"dataframe\">\n",
       "  <thead>\n",
       "    <tr style=\"text-align: right;\">\n",
       "      <th></th>\n",
       "      <th>code</th>\n",
       "      <th>product_name</th>\n",
       "      <th>brand</th>\n",
       "      <th>category</th>\n",
       "      <th>info_nutri_complete</th>\n",
       "      <th>pnns_group</th>\n",
       "      <th>nutriscore</th>\n",
       "      <th>nutriscore_grade</th>\n",
       "      <th>energy_kj</th>\n",
       "      <th>sugars</th>\n",
       "      <th>fat</th>\n",
       "      <th>saturated_fat</th>\n",
       "      <th>sodium</th>\n",
       "      <th>fiber</th>\n",
       "      <th>proteins</th>\n",
       "      <th>fruits_vegetables</th>\n",
       "    </tr>\n",
       "  </thead>\n",
       "  <tbody>\n",
       "    <tr>\n",
       "      <th>count</th>\n",
       "      <td>789472</td>\n",
       "      <td>767441</td>\n",
       "      <td>418292</td>\n",
       "      <td>353482</td>\n",
       "      <td>789472.000000</td>\n",
       "      <td>789390</td>\n",
       "      <td>275387.000000</td>\n",
       "      <td>275383</td>\n",
       "      <td>6.176480e+05</td>\n",
       "      <td>613736.000000</td>\n",
       "      <td>611579.000000</td>\n",
       "      <td>614549.000000</td>\n",
       "      <td>598321.000000</td>\n",
       "      <td>137888.000000</td>\n",
       "      <td>613557.000000</td>\n",
       "      <td>16454.000000</td>\n",
       "    </tr>\n",
       "    <tr>\n",
       "      <th>unique</th>\n",
       "      <td>789472</td>\n",
       "      <td>480556</td>\n",
       "      <td>61987</td>\n",
       "      <td>41526</td>\n",
       "      <td>NaN</td>\n",
       "      <td>41</td>\n",
       "      <td>NaN</td>\n",
       "      <td>5</td>\n",
       "      <td>NaN</td>\n",
       "      <td>NaN</td>\n",
       "      <td>NaN</td>\n",
       "      <td>NaN</td>\n",
       "      <td>NaN</td>\n",
       "      <td>NaN</td>\n",
       "      <td>NaN</td>\n",
       "      <td>NaN</td>\n",
       "    </tr>\n",
       "    <tr>\n",
       "      <th>top</th>\n",
       "      <td>0000000000017</td>\n",
       "      <td>filet de poulet</td>\n",
       "      <td>carrefour</td>\n",
       "      <td>boissons</td>\n",
       "      <td>NaN</td>\n",
       "      <td>unknown</td>\n",
       "      <td>NaN</td>\n",
       "      <td>d</td>\n",
       "      <td>NaN</td>\n",
       "      <td>NaN</td>\n",
       "      <td>NaN</td>\n",
       "      <td>NaN</td>\n",
       "      <td>NaN</td>\n",
       "      <td>NaN</td>\n",
       "      <td>NaN</td>\n",
       "      <td>NaN</td>\n",
       "    </tr>\n",
       "    <tr>\n",
       "      <th>freq</th>\n",
       "      <td>1</td>\n",
       "      <td>983</td>\n",
       "      <td>9974</td>\n",
       "      <td>4025</td>\n",
       "      <td>NaN</td>\n",
       "      <td>475859</td>\n",
       "      <td>NaN</td>\n",
       "      <td>86202</td>\n",
       "      <td>NaN</td>\n",
       "      <td>NaN</td>\n",
       "      <td>NaN</td>\n",
       "      <td>NaN</td>\n",
       "      <td>NaN</td>\n",
       "      <td>NaN</td>\n",
       "      <td>NaN</td>\n",
       "      <td>NaN</td>\n",
       "    </tr>\n",
       "    <tr>\n",
       "      <th>mean</th>\n",
       "      <td>NaN</td>\n",
       "      <td>NaN</td>\n",
       "      <td>NaN</td>\n",
       "      <td>NaN</td>\n",
       "      <td>0.824128</td>\n",
       "      <td>NaN</td>\n",
       "      <td>9.547597</td>\n",
       "      <td>NaN</td>\n",
       "      <td>1.179470e+03</td>\n",
       "      <td>13.779493</td>\n",
       "      <td>14.320493</td>\n",
       "      <td>5.450647</td>\n",
       "      <td>0.517882</td>\n",
       "      <td>2.987775</td>\n",
       "      <td>9.142465</td>\n",
       "      <td>43.567835</td>\n",
       "    </tr>\n",
       "    <tr>\n",
       "      <th>std</th>\n",
       "      <td>NaN</td>\n",
       "      <td>NaN</td>\n",
       "      <td>NaN</td>\n",
       "      <td>NaN</td>\n",
       "      <td>0.380711</td>\n",
       "      <td>NaN</td>\n",
       "      <td>8.778626</td>\n",
       "      <td>NaN</td>\n",
       "      <td>1.560653e+04</td>\n",
       "      <td>21.909611</td>\n",
       "      <td>117.940408</td>\n",
       "      <td>29.048913</td>\n",
       "      <td>13.110121</td>\n",
       "      <td>4.925267</td>\n",
       "      <td>221.072276</td>\n",
       "      <td>32.055136</td>\n",
       "    </tr>\n",
       "    <tr>\n",
       "      <th>min</th>\n",
       "      <td>NaN</td>\n",
       "      <td>NaN</td>\n",
       "      <td>NaN</td>\n",
       "      <td>NaN</td>\n",
       "      <td>0.000000</td>\n",
       "      <td>NaN</td>\n",
       "      <td>-15.000000</td>\n",
       "      <td>NaN</td>\n",
       "      <td>0.000000e+00</td>\n",
       "      <td>-1.000000</td>\n",
       "      <td>0.000000</td>\n",
       "      <td>0.000000</td>\n",
       "      <td>0.000000</td>\n",
       "      <td>0.000000</td>\n",
       "      <td>0.000000</td>\n",
       "      <td>0.000000</td>\n",
       "    </tr>\n",
       "    <tr>\n",
       "      <th>25%</th>\n",
       "      <td>NaN</td>\n",
       "      <td>NaN</td>\n",
       "      <td>NaN</td>\n",
       "      <td>NaN</td>\n",
       "      <td>1.000000</td>\n",
       "      <td>NaN</td>\n",
       "      <td>2.000000</td>\n",
       "      <td>NaN</td>\n",
       "      <td>4.640000e+02</td>\n",
       "      <td>0.600000</td>\n",
       "      <td>1.000000</td>\n",
       "      <td>0.200000</td>\n",
       "      <td>0.024000</td>\n",
       "      <td>0.100000</td>\n",
       "      <td>1.500000</td>\n",
       "      <td>12.000000</td>\n",
       "    </tr>\n",
       "    <tr>\n",
       "      <th>50%</th>\n",
       "      <td>NaN</td>\n",
       "      <td>NaN</td>\n",
       "      <td>NaN</td>\n",
       "      <td>NaN</td>\n",
       "      <td>1.000000</td>\n",
       "      <td>NaN</td>\n",
       "      <td>10.000000</td>\n",
       "      <td>NaN</td>\n",
       "      <td>1.100000e+03</td>\n",
       "      <td>3.500000</td>\n",
       "      <td>8.000000</td>\n",
       "      <td>2.000000</td>\n",
       "      <td>0.204000</td>\n",
       "      <td>1.700000</td>\n",
       "      <td>6.200000</td>\n",
       "      <td>48.000000</td>\n",
       "    </tr>\n",
       "    <tr>\n",
       "      <th>75%</th>\n",
       "      <td>NaN</td>\n",
       "      <td>NaN</td>\n",
       "      <td>NaN</td>\n",
       "      <td>NaN</td>\n",
       "      <td>1.000000</td>\n",
       "      <td>NaN</td>\n",
       "      <td>16.000000</td>\n",
       "      <td>NaN</td>\n",
       "      <td>1.678000e+03</td>\n",
       "      <td>20.000000</td>\n",
       "      <td>22.000000</td>\n",
       "      <td>8.000000</td>\n",
       "      <td>0.520000</td>\n",
       "      <td>3.600000</td>\n",
       "      <td>12.900000</td>\n",
       "      <td>64.000000</td>\n",
       "    </tr>\n",
       "    <tr>\n",
       "      <th>max</th>\n",
       "      <td>NaN</td>\n",
       "      <td>NaN</td>\n",
       "      <td>NaN</td>\n",
       "      <td>NaN</td>\n",
       "      <td>1.000000</td>\n",
       "      <td>NaN</td>\n",
       "      <td>40.000000</td>\n",
       "      <td>NaN</td>\n",
       "      <td>1.220000e+07</td>\n",
       "      <td>6880.000000</td>\n",
       "      <td>91200.000000</td>\n",
       "      <td>21900.000000</td>\n",
       "      <td>10000.000000</td>\n",
       "      <td>100.000000</td>\n",
       "      <td>173000.000000</td>\n",
       "      <td>100.000000</td>\n",
       "    </tr>\n",
       "  </tbody>\n",
       "</table>\n",
       "</div>"
      ],
      "text/plain": [
       "                 code     product_name      brand  category  \\\n",
       "count          789472           767441     418292    353482   \n",
       "unique         789472           480556      61987     41526   \n",
       "top     0000000000017  filet de poulet  carrefour  boissons   \n",
       "freq                1              983       9974      4025   \n",
       "mean              NaN              NaN        NaN       NaN   \n",
       "std               NaN              NaN        NaN       NaN   \n",
       "min               NaN              NaN        NaN       NaN   \n",
       "25%               NaN              NaN        NaN       NaN   \n",
       "50%               NaN              NaN        NaN       NaN   \n",
       "75%               NaN              NaN        NaN       NaN   \n",
       "max               NaN              NaN        NaN       NaN   \n",
       "\n",
       "        info_nutri_complete pnns_group     nutriscore nutriscore_grade  \\\n",
       "count         789472.000000     789390  275387.000000           275383   \n",
       "unique                  NaN         41            NaN                5   \n",
       "top                     NaN    unknown            NaN                d   \n",
       "freq                    NaN     475859            NaN            86202   \n",
       "mean               0.824128        NaN       9.547597              NaN   \n",
       "std                0.380711        NaN       8.778626              NaN   \n",
       "min                0.000000        NaN     -15.000000              NaN   \n",
       "25%                1.000000        NaN       2.000000              NaN   \n",
       "50%                1.000000        NaN      10.000000              NaN   \n",
       "75%                1.000000        NaN      16.000000              NaN   \n",
       "max                1.000000        NaN      40.000000              NaN   \n",
       "\n",
       "           energy_kj         sugars            fat  saturated_fat  \\\n",
       "count   6.176480e+05  613736.000000  611579.000000  614549.000000   \n",
       "unique           NaN            NaN            NaN            NaN   \n",
       "top              NaN            NaN            NaN            NaN   \n",
       "freq             NaN            NaN            NaN            NaN   \n",
       "mean    1.179470e+03      13.779493      14.320493       5.450647   \n",
       "std     1.560653e+04      21.909611     117.940408      29.048913   \n",
       "min     0.000000e+00      -1.000000       0.000000       0.000000   \n",
       "25%     4.640000e+02       0.600000       1.000000       0.200000   \n",
       "50%     1.100000e+03       3.500000       8.000000       2.000000   \n",
       "75%     1.678000e+03      20.000000      22.000000       8.000000   \n",
       "max     1.220000e+07    6880.000000   91200.000000   21900.000000   \n",
       "\n",
       "               sodium          fiber       proteins  fruits_vegetables  \n",
       "count   598321.000000  137888.000000  613557.000000       16454.000000  \n",
       "unique            NaN            NaN            NaN                NaN  \n",
       "top               NaN            NaN            NaN                NaN  \n",
       "freq              NaN            NaN            NaN                NaN  \n",
       "mean         0.517882       2.987775       9.142465          43.567835  \n",
       "std         13.110121       4.925267     221.072276          32.055136  \n",
       "min          0.000000       0.000000       0.000000           0.000000  \n",
       "25%          0.024000       0.100000       1.500000          12.000000  \n",
       "50%          0.204000       1.700000       6.200000          48.000000  \n",
       "75%          0.520000       3.600000      12.900000          64.000000  \n",
       "max      10000.000000     100.000000  173000.000000         100.000000  "
      ]
     },
     "execution_count": 5,
     "metadata": {},
     "output_type": "execute_result"
    }
   ],
   "source": [
    "dataclean.describe(include = 'all')"
   ]
  },
  {
   "cell_type": "markdown",
   "id": "c7c9cbfd-b774-4cd3-97c2-4391bc84d681",
   "metadata": {},
   "source": [
    "# Univarié"
   ]
  },
  {
   "cell_type": "code",
   "execution_count": 6,
   "id": "cf599f10-24f2-4e82-b285-40208d2acbfc",
   "metadata": {},
   "outputs": [],
   "source": [
    "utiles = ['energy_kj','sugars','fat','saturated_fat','sodium','fiber','proteins','fruits_vegetables']\n",
    "unités = {'energy_kj' : 'kilojoules',\n",
    "          'sugars' : 'grammes',\n",
    "          'fat' : 'grammes',\n",
    "          'saturated_fat' : 'grammes',\n",
    "          'sodium' : 'grammes',\n",
    "          'fiber' : 'grammes',\n",
    "          'proteins' : 'grammes',\n",
    "          'fruits_vegetables' : 'grammes'}"
   ]
  },
  {
   "cell_type": "code",
   "execution_count": 7,
   "id": "122150ed-a7be-4a68-bdb8-a1f7c71e13c9",
   "metadata": {},
   "outputs": [],
   "source": [
    "#visuels poru detecter outliers\n",
    "plt.rcParams.update({'font.size': 12})\n",
    "\n",
    "def univarié(df, outlier):\n",
    "    fig = plt.figure(figsize=(23,10))\n",
    "    for i,j in enumerate(utiles):\n",
    "    \n",
    "        fig.add_subplot(2,4,i+1)\n",
    "        ax = sns.boxplot(data = df, y = j, showfliers = outlier, fliersize=3)\n",
    "        ax.set_xlabel(j)\n",
    "        ax.set_ylabel(unités[j], labelpad = 15)\n",
    "    fig.suptitle(\"Valeurs nutritionnelles (pour 100g) utiles au nutriscore\", y=0.93, fontsize = 14)\n",
    "    plt.gcf().subplots_adjust( wspace = 0.3, hspace = 0.2)"
   ]
  },
  {
   "cell_type": "code",
   "execution_count": 8,
   "id": "045c02b7-09cf-4a17-b2b7-392ae09cf67a",
   "metadata": {},
   "outputs": [
    {
     "data": {
      "application/vnd.jupyter.widget-view+json": {
       "model_id": "822c616ef5fd46aab3642261be25685a",
       "version_major": 2,
       "version_minor": 0
      },
      "text/plain": [
       "interactive(children=(Dropdown(description='outlier', options=(True, False), value=True), Output()), _dom_clas…"
      ]
     },
     "metadata": {},
     "output_type": "display_data"
    },
    {
     "data": {
      "image/png": "[encoded data removed]",
      "text/plain": [
       "<Figure size 1656x720 with 8 Axes>"
      ]
     },
     "metadata": {
      "needs_background": "light"
     },
     "output_type": "display_data"
    }
   ],
   "source": [
    "interact(univarié, df=fixed(dataclean), outlier = [True, False]);"
   ]
  },
  {
   "cell_type": "code",
   "execution_count": 9,
   "id": "feb99d82-9e23-4b62-8953-a5e40cb02f0d",
   "metadata": {},
   "outputs": [],
   "source": [
    "#valeurs aberrantes (>100g, energy)"
   ]
  },
  {
   "cell_type": "code",
   "execution_count": 10,
   "id": "de44a42e-fb2a-4d74-a9ba-010766938175",
   "metadata": {},
   "outputs": [
    {
     "data": {
      "image/png": "[encoded data removed]",
      "text/plain": [
       "<Figure size 432x288 with 1 Axes>"
      ]
     },
     "metadata": {
      "needs_background": "light"
     },
     "output_type": "display_data"
    }
   ],
   "source": [
    "ax = sns.histplot(data = dataclean[dataclean.energy_kj<1e06], x = 'energy_kj', bins = 30)"
   ]
  },
  {
   "cell_type": "code",
   "execution_count": 11,
   "id": "5cd99123-60c3-4525-83f5-c00849288782",
   "metadata": {},
   "outputs": [
    {
     "data": {
      "image/png": "[encoded data removed]",
      "text/plain": [
       "<Figure size 432x288 with 1 Axes>"
      ]
     },
     "metadata": {
      "needs_background": "light"
     },
     "output_type": "display_data"
    }
   ],
   "source": [
    "ax = sns.histplot(data = dataclean[dataclean.energy_kj<10000], x = 'energy_kj', bins = 30)"
   ]
  },
  {
   "cell_type": "code",
   "execution_count": 12,
   "id": "716df8cd-cde9-4d0d-aec7-464b017b474b",
   "metadata": {},
   "outputs": [
    {
     "data": {
      "text/plain": [
       "Int64Index([    18,     47,    765,    766,    816,    817,    820,    857,\n",
       "               876,   1077,\n",
       "            ...\n",
       "            786709, 786770, 787131, 787264, 787569, 788124, 788852, 788912,\n",
       "            789203, 789232],\n",
       "           dtype='int64', length=1798)"
      ]
     },
     "execution_count": 12,
     "metadata": {},
     "output_type": "execute_result"
    }
   ],
   "source": [
    "#energy superieur à 4000 (distrib precedente)\n",
    "dataclean[(dataclean.energy_kj>=4000)].index"
   ]
  },
  {
   "cell_type": "code",
   "execution_count": 13,
   "id": "9f937d49-7527-43b9-81ad-3d89b0fa8498",
   "metadata": {},
   "outputs": [
    {
     "data": {
      "text/html": [
       "<div>\n",
       "<style scoped>\n",
       "    .dataframe tbody tr th:only-of-type {\n",
       "        vertical-align: middle;\n",
       "    }\n",
       "\n",
       "    .dataframe tbody tr th {\n",
       "        vertical-align: top;\n",
       "    }\n",
       "\n",
       "    .dataframe thead th {\n",
       "        text-align: right;\n",
       "    }\n",
       "</style>\n",
       "<table border=\"1\" class=\"dataframe\">\n",
       "  <thead>\n",
       "    <tr style=\"text-align: right;\">\n",
       "      <th></th>\n",
       "      <th>code</th>\n",
       "      <th>product_name</th>\n",
       "      <th>brand</th>\n",
       "      <th>category</th>\n",
       "      <th>info_nutri_complete</th>\n",
       "      <th>pnns_group</th>\n",
       "      <th>nutriscore</th>\n",
       "      <th>nutriscore_grade</th>\n",
       "      <th>energy_kj</th>\n",
       "      <th>sugars</th>\n",
       "      <th>fat</th>\n",
       "      <th>saturated_fat</th>\n",
       "      <th>sodium</th>\n",
       "      <th>fiber</th>\n",
       "      <th>proteins</th>\n",
       "      <th>fruits_vegetables</th>\n",
       "    </tr>\n",
       "  </thead>\n",
       "  <tbody>\n",
       "    <tr>\n",
       "      <th>18</th>\n",
       "      <td>000000000114</td>\n",
       "      <td>chocolate n 3</td>\n",
       "      <td>jeff de bruges</td>\n",
       "      <td>NaN</td>\n",
       "      <td>1</td>\n",
       "      <td>unknown</td>\n",
       "      <td>NaN</td>\n",
       "      <td>NaN</td>\n",
       "      <td>10205.0</td>\n",
       "      <td>27.000000</td>\n",
       "      <td>44.000000</td>\n",
       "      <td>28.000000</td>\n",
       "      <td>0.0100</td>\n",
       "      <td>NaN</td>\n",
       "      <td>2.100000</td>\n",
       "      <td>NaN</td>\n",
       "    </tr>\n",
       "    <tr>\n",
       "      <th>47</th>\n",
       "      <td>0000000004206</td>\n",
       "      <td>saucisse au chou fumé bbc sv (morteau)</td>\n",
       "      <td>NaN</td>\n",
       "      <td>NaN</td>\n",
       "      <td>1</td>\n",
       "      <td>unknown</td>\n",
       "      <td>NaN</td>\n",
       "      <td>NaN</td>\n",
       "      <td>4033.0</td>\n",
       "      <td>0.100000</td>\n",
       "      <td>25.000000</td>\n",
       "      <td>9.700000</td>\n",
       "      <td>1.0400</td>\n",
       "      <td>NaN</td>\n",
       "      <td>20.000000</td>\n",
       "      <td>NaN</td>\n",
       "    </tr>\n",
       "    <tr>\n",
       "      <th>765</th>\n",
       "      <td>000108138</td>\n",
       "      <td>petit dejeuner complet</td>\n",
       "      <td>NaN</td>\n",
       "      <td>NaN</td>\n",
       "      <td>1</td>\n",
       "      <td>unknown</td>\n",
       "      <td>NaN</td>\n",
       "      <td>NaN</td>\n",
       "      <td>6213.0</td>\n",
       "      <td>9.133333</td>\n",
       "      <td>6.233333</td>\n",
       "      <td>0.633333</td>\n",
       "      <td>NaN</td>\n",
       "      <td>NaN</td>\n",
       "      <td>39.166667</td>\n",
       "      <td>NaN</td>\n",
       "    </tr>\n",
       "    <tr>\n",
       "      <th>766</th>\n",
       "      <td>000108311</td>\n",
       "      <td>pure whey isolate 90</td>\n",
       "      <td>NaN</td>\n",
       "      <td>NaN</td>\n",
       "      <td>1</td>\n",
       "      <td>unknown</td>\n",
       "      <td>NaN</td>\n",
       "      <td>NaN</td>\n",
       "      <td>6276.0</td>\n",
       "      <td>4.000000</td>\n",
       "      <td>2.000000</td>\n",
       "      <td>0.060000</td>\n",
       "      <td>0.2000</td>\n",
       "      <td>NaN</td>\n",
       "      <td>87.000000</td>\n",
       "      <td>NaN</td>\n",
       "    </tr>\n",
       "    <tr>\n",
       "      <th>816</th>\n",
       "      <td>000113058</td>\n",
       "      <td>complete breakfast smoothie stranwberry &amp; banana</td>\n",
       "      <td>NaN</td>\n",
       "      <td>NaN</td>\n",
       "      <td>1</td>\n",
       "      <td>unknown</td>\n",
       "      <td>NaN</td>\n",
       "      <td>NaN</td>\n",
       "      <td>5711.0</td>\n",
       "      <td>8.333300</td>\n",
       "      <td>5.000000</td>\n",
       "      <td>0.000000</td>\n",
       "      <td>0.0000</td>\n",
       "      <td>NaN</td>\n",
       "      <td>38.333300</td>\n",
       "      <td>NaN</td>\n",
       "    </tr>\n",
       "    <tr>\n",
       "      <th>...</th>\n",
       "      <td>...</td>\n",
       "      <td>...</td>\n",
       "      <td>...</td>\n",
       "      <td>...</td>\n",
       "      <td>...</td>\n",
       "      <td>...</td>\n",
       "      <td>...</td>\n",
       "      <td>...</td>\n",
       "      <td>...</td>\n",
       "      <td>...</td>\n",
       "      <td>...</td>\n",
       "      <td>...</td>\n",
       "      <td>...</td>\n",
       "      <td>...</td>\n",
       "      <td>...</td>\n",
       "      <td>...</td>\n",
       "    </tr>\n",
       "    <tr>\n",
       "      <th>425231</th>\n",
       "      <td>3575410864360</td>\n",
       "      <td>nactalia bio 2</td>\n",
       "      <td>nactalia bio</td>\n",
       "      <td>aliments pour bébé,laits pour bébé</td>\n",
       "      <td>1</td>\n",
       "      <td>unknown</td>\n",
       "      <td>NaN</td>\n",
       "      <td>NaN</td>\n",
       "      <td>2129.0</td>\n",
       "      <td>58.700000</td>\n",
       "      <td>26.000000</td>\n",
       "      <td>6.200000</td>\n",
       "      <td>230.0000</td>\n",
       "      <td>NaN</td>\n",
       "      <td>10.600000</td>\n",
       "      <td>NaN</td>\n",
       "    </tr>\n",
       "    <tr>\n",
       "      <th>601038</th>\n",
       "      <td>5033491273964</td>\n",
       "      <td>danone 1919 fleur d'oranger</td>\n",
       "      <td>danone</td>\n",
       "      <td>produits laitiers,produits fermentés,produits ...</td>\n",
       "      <td>1</td>\n",
       "      <td>milk and yogurt</td>\n",
       "      <td>15.0</td>\n",
       "      <td>d</td>\n",
       "      <td>388.0</td>\n",
       "      <td>11.900000</td>\n",
       "      <td>3.500000</td>\n",
       "      <td>2.200000</td>\n",
       "      <td>116.0000</td>\n",
       "      <td>NaN</td>\n",
       "      <td>3.300000</td>\n",
       "      <td>NaN</td>\n",
       "    </tr>\n",
       "    <tr>\n",
       "      <th>730277</th>\n",
       "      <td>8410902002620</td>\n",
       "      <td>NaN</td>\n",
       "      <td>NaN</td>\n",
       "      <td>NaN</td>\n",
       "      <td>1</td>\n",
       "      <td>unknown</td>\n",
       "      <td>NaN</td>\n",
       "      <td>NaN</td>\n",
       "      <td>NaN</td>\n",
       "      <td>NaN</td>\n",
       "      <td>NaN</td>\n",
       "      <td>NaN</td>\n",
       "      <td>176.4000</td>\n",
       "      <td>NaN</td>\n",
       "      <td>NaN</td>\n",
       "      <td>NaN</td>\n",
       "    </tr>\n",
       "    <tr>\n",
       "      <th>772038</th>\n",
       "      <td>8719189419979</td>\n",
       "      <td>unicorne cornet</td>\n",
       "      <td>jouy &amp; co</td>\n",
       "      <td>NaN</td>\n",
       "      <td>1</td>\n",
       "      <td>unknown</td>\n",
       "      <td>NaN</td>\n",
       "      <td>NaN</td>\n",
       "      <td>2092.0</td>\n",
       "      <td>51.279999</td>\n",
       "      <td>26.010000</td>\n",
       "      <td>21.400000</td>\n",
       "      <td>178.4000</td>\n",
       "      <td>NaN</td>\n",
       "      <td>4.190000</td>\n",
       "      <td>NaN</td>\n",
       "    </tr>\n",
       "    <tr>\n",
       "      <th>602444</th>\n",
       "      <td>5050974505297</td>\n",
       "      <td>simply sesame</td>\n",
       "      <td>ryvita</td>\n",
       "      <td>aliments et boissons à base de végétaux,alimen...</td>\n",
       "      <td>1</td>\n",
       "      <td>bread</td>\n",
       "      <td>-1.0</td>\n",
       "      <td>a</td>\n",
       "      <td>1590.0</td>\n",
       "      <td>2.860000</td>\n",
       "      <td>6.670000</td>\n",
       "      <td>0.952000</td>\n",
       "      <td>0.0381</td>\n",
       "      <td>NaN</td>\n",
       "      <td>128.000000</td>\n",
       "      <td>NaN</td>\n",
       "    </tr>\n",
       "  </tbody>\n",
       "</table>\n",
       "<p>1813 rows × 16 columns</p>\n",
       "</div>"
      ],
      "text/plain": [
       "                 code                                      product_name  \\\n",
       "18       000000000114                                     chocolate n 3   \n",
       "47      0000000004206            saucisse au chou fumé bbc sv (morteau)   \n",
       "765         000108138                            petit dejeuner complet   \n",
       "766         000108311                              pure whey isolate 90   \n",
       "816         000113058  complete breakfast smoothie stranwberry & banana   \n",
       "...               ...                                               ...   \n",
       "425231  3575410864360                                    nactalia bio 2   \n",
       "601038  5033491273964                       danone 1919 fleur d'oranger   \n",
       "730277  8410902002620                                               NaN   \n",
       "772038  8719189419979                                   unicorne cornet   \n",
       "602444  5050974505297                                     simply sesame   \n",
       "\n",
       "                 brand                                           category  \\\n",
       "18      jeff de bruges                                                NaN   \n",
       "47                 NaN                                                NaN   \n",
       "765                NaN                                                NaN   \n",
       "766                NaN                                                NaN   \n",
       "816                NaN                                                NaN   \n",
       "...                ...                                                ...   \n",
       "425231    nactalia bio                 aliments pour bébé,laits pour bébé   \n",
       "601038          danone  produits laitiers,produits fermentés,produits ...   \n",
       "730277             NaN                                                NaN   \n",
       "772038       jouy & co                                                NaN   \n",
       "602444          ryvita  aliments et boissons à base de végétaux,alimen...   \n",
       "\n",
       "        info_nutri_complete       pnns_group  nutriscore nutriscore_grade  \\\n",
       "18                        1          unknown         NaN              NaN   \n",
       "47                        1          unknown         NaN              NaN   \n",
       "765                       1          unknown         NaN              NaN   \n",
       "766                       1          unknown         NaN              NaN   \n",
       "816                       1          unknown         NaN              NaN   \n",
       "...                     ...              ...         ...              ...   \n",
       "425231                    1          unknown         NaN              NaN   \n",
       "601038                    1  milk and yogurt        15.0                d   \n",
       "730277                    1          unknown         NaN              NaN   \n",
       "772038                    1          unknown         NaN              NaN   \n",
       "602444                    1            bread        -1.0                a   \n",
       "\n",
       "        energy_kj     sugars        fat  saturated_fat    sodium  fiber  \\\n",
       "18        10205.0  27.000000  44.000000      28.000000    0.0100    NaN   \n",
       "47         4033.0   0.100000  25.000000       9.700000    1.0400    NaN   \n",
       "765        6213.0   9.133333   6.233333       0.633333       NaN    NaN   \n",
       "766        6276.0   4.000000   2.000000       0.060000    0.2000    NaN   \n",
       "816        5711.0   8.333300   5.000000       0.000000    0.0000    NaN   \n",
       "...           ...        ...        ...            ...       ...    ...   \n",
       "425231     2129.0  58.700000  26.000000       6.200000  230.0000    NaN   \n",
       "601038      388.0  11.900000   3.500000       2.200000  116.0000    NaN   \n",
       "730277        NaN        NaN        NaN            NaN  176.4000    NaN   \n",
       "772038     2092.0  51.279999  26.010000      21.400000  178.4000    NaN   \n",
       "602444     1590.0   2.860000   6.670000       0.952000    0.0381    NaN   \n",
       "\n",
       "          proteins  fruits_vegetables  \n",
       "18        2.100000                NaN  \n",
       "47       20.000000                NaN  \n",
       "765      39.166667                NaN  \n",
       "766      87.000000                NaN  \n",
       "816      38.333300                NaN  \n",
       "...            ...                ...  \n",
       "425231   10.600000                NaN  \n",
       "601038    3.300000                NaN  \n",
       "730277         NaN                NaN  \n",
       "772038    4.190000                NaN  \n",
       "602444  128.000000                NaN  \n",
       "\n",
       "[1813 rows x 16 columns]"
      ]
     },
     "execution_count": 13,
     "metadata": {},
     "output_type": "execute_result"
    }
   ],
   "source": [
    "#autres\n",
    "indaber = dataclean[dataclean.energy_kj>=4000].index.tolist()\n",
    "index = dataclean.index\n",
    "\n",
    "#recupérer les index des produits qui ont des soucis \n",
    "for var in utiles[1:-1]:\n",
    "    for valeur in index[dataclean[var] > 100]:\n",
    "        indaber.append(valeur)\n",
    "        \n",
    "dataaber = dataclean.iloc[indaber].drop_duplicates() # au cas ou il y ai des produits qui ont le souci avec plusieurs variables\n",
    "indaber = []\n",
    "\n",
    "for ind in dataaber.index.values:\n",
    "    indaber.append(ind)\n",
    "dataaber"
   ]
  },
  {
   "cell_type": "code",
   "execution_count": 14,
   "id": "53f2aed2-0867-475d-bbc6-d3e9805c4659",
   "metadata": {},
   "outputs": [],
   "source": [
    "#on les enleve du dataframe\n",
    "dataclean2 = dataclean.drop(indaber)\n",
    "dataclean2.reset_index(drop = True, inplace = True)"
   ]
  },
  {
   "cell_type": "code",
   "execution_count": 15,
   "id": "1819caa8-c7f8-40b6-9d97-f50c2401ac70",
   "metadata": {},
   "outputs": [
    {
     "data": {
      "text/plain": [
       "(787659, 16)"
      ]
     },
     "execution_count": 15,
     "metadata": {},
     "output_type": "execute_result"
    }
   ],
   "source": [
    "dataclean2.shape"
   ]
  },
  {
   "cell_type": "code",
   "execution_count": 16,
   "id": "6958be6e-564c-49ac-97e1-31a6a8786682",
   "metadata": {},
   "outputs": [
    {
     "data": {
      "application/vnd.jupyter.widget-view+json": {
       "model_id": "eb4bc1b64b0b41098c11043e12ea83e9",
       "version_major": 2,
       "version_minor": 0
      },
      "text/plain": [
       "interactive(children=(Dropdown(description='outlier', options=(True, False), value=True), Output()), _dom_clas…"
      ]
     },
     "metadata": {},
     "output_type": "display_data"
    },
    {
     "data": {
      "image/png": "[encoded data removed]",
      "text/plain": [
       "<Figure size 1656x720 with 8 Axes>"
      ]
     },
     "metadata": {
      "needs_background": "light"
     },
     "output_type": "display_data"
    }
   ],
   "source": [
    "interact(univarié, df=fixed(dataclean2), outlier = [True, False]);"
   ]
  },
  {
   "cell_type": "code",
   "execution_count": 17,
   "id": "842dffbf-715a-40a0-a992-1354832b4147",
   "metadata": {},
   "outputs": [
    {
     "data": {
      "image/png": "[encoded data removed]",
      "text/plain": [
       "<Figure size 1656x720 with 8 Axes>"
      ]
     },
     "metadata": {
      "needs_background": "light"
     },
     "output_type": "display_data"
    }
   ],
   "source": [
    "#graphs des distribs\n",
    "fig = plt.figure(figsize=(23,10))\n",
    "\n",
    "for i,j in enumerate(utiles):\n",
    "    \n",
    "    fig.add_subplot(2,4,i+1)\n",
    "    ax = sns.histplot(data = dataclean2, x = j, bins = 30)\n",
    "    ax.set_xlabel(j+' ('+unités[j]+')', labelpad = 15)\n",
    "    ax.set_ylabel(ax.get_ylabel(), labelpad = 10)\n",
    "fig.suptitle(\"Distribution des valeurs nutritionnelles (pour 100g) utiles au nutriscore\", y=0.93, fontsize = 14)\n",
    "plt.gcf().subplots_adjust( wspace = 0.4, hspace = 0.3);"
   ]
  },
  {
   "cell_type": "code",
   "execution_count": 18,
   "id": "35e8a1f2-f90d-4f96-a672-b6c71dc47196",
   "metadata": {},
   "outputs": [
    {
     "data": {
      "image/png": "[encoded data removed]",
      "text/plain": [
       "<Figure size 1656x720 with 8 Axes>"
      ]
     },
     "metadata": {
      "needs_background": "light"
     },
     "output_type": "display_data"
    }
   ],
   "source": [
    "#violonplots pour combiner boxplot et distrib\n",
    "fig = plt.figure(figsize=(23,10))\n",
    "\n",
    "for i,j in enumerate(utiles):\n",
    "    \n",
    "    fig.add_subplot(2,4,i+1)\n",
    "    ax = sns.violinplot(data = dataclean2, y = j, palette = 'Set3', cut = 0)\n",
    "    ax.set_xlabel(j)\n",
    "    ax.set_ylabel(unités[j], labelpad = 15)\n",
    "fig.suptitle(\"Valeurs nutritionnelles (pour 100g) utiles au nutriscore\", y=0.93, fontsize = 14)\n",
    "plt.gcf().subplots_adjust( wspace = 0.3, hspace = 0.2);"
   ]
  },
  {
   "cell_type": "code",
   "execution_count": 19,
   "id": "5d495aa1-a0a6-4744-bd37-c83a53f74d93",
   "metadata": {},
   "outputs": [
    {
     "data": {
      "image/png": "[encoded data removed]",
      "text/plain": [
       "<Figure size 1440x720 with 1 Axes>"
      ]
     },
     "metadata": {
      "needs_background": "light"
     },
     "output_type": "display_data"
    }
   ],
   "source": [
    "comptage2 = dataclean[dataclean.pnns_group != 'unknown'].pnns_group.value_counts()\n",
    "\n",
    "fig = plt.figure(figsize = (20,10))\n",
    "\n",
    "ax = sns.barplot(x = comptage2.index, y = comptage2.values)\n",
    "plt.xticks(rotation = 90)\n",
    "ax.set_ylabel(\"Nombre de produits\", labelpad = 20)\n",
    "ax.set_title(\"nombre de produits par categorie pnns\", y = 1.03);"
   ]
  },
  {
   "cell_type": "markdown",
   "id": "f6f8c6ba-9d4f-45a1-b24c-685acc2d6e89",
   "metadata": {},
   "source": [
    "# Multivarié"
   ]
  },
  {
   "cell_type": "code",
   "execution_count": 20,
   "id": "cd986767-6375-4fec-974b-bb49da785b7d",
   "metadata": {},
   "outputs": [],
   "source": [
    "#garder produits avec valeurs completes\n",
    "datacleanrempli = dataclean2[dataclean2.info_nutri_complete == 1].drop('info_nutri_complete', axis = 1)"
   ]
  },
  {
   "cell_type": "code",
   "execution_count": 21,
   "id": "08c8321b-7d7c-4c57-b674-7347195702bd",
   "metadata": {},
   "outputs": [
    {
     "data": {
      "text/html": [
       "<div>\n",
       "<style scoped>\n",
       "    .dataframe tbody tr th:only-of-type {\n",
       "        vertical-align: middle;\n",
       "    }\n",
       "\n",
       "    .dataframe tbody tr th {\n",
       "        vertical-align: top;\n",
       "    }\n",
       "\n",
       "    .dataframe thead th {\n",
       "        text-align: right;\n",
       "    }\n",
       "</style>\n",
       "<table border=\"1\" class=\"dataframe\">\n",
       "  <thead>\n",
       "    <tr style=\"text-align: right;\">\n",
       "      <th></th>\n",
       "      <th>nutriscore</th>\n",
       "      <th>energy_kj</th>\n",
       "      <th>sugars</th>\n",
       "      <th>fat</th>\n",
       "      <th>saturated_fat</th>\n",
       "      <th>sodium</th>\n",
       "      <th>fiber</th>\n",
       "      <th>proteins</th>\n",
       "      <th>fruits_vegetables</th>\n",
       "    </tr>\n",
       "  </thead>\n",
       "  <tbody>\n",
       "    <tr>\n",
       "      <th>nutriscore</th>\n",
       "      <td>1.000000</td>\n",
       "      <td>0.556777</td>\n",
       "      <td>0.388576</td>\n",
       "      <td>0.472682</td>\n",
       "      <td>0.575971</td>\n",
       "      <td>0.174533</td>\n",
       "      <td>-0.166950</td>\n",
       "      <td>0.061631</td>\n",
       "      <td>-0.331719</td>\n",
       "    </tr>\n",
       "    <tr>\n",
       "      <th>energy_kj</th>\n",
       "      <td>0.556777</td>\n",
       "      <td>1.000000</td>\n",
       "      <td>0.292889</td>\n",
       "      <td>0.755520</td>\n",
       "      <td>0.566926</td>\n",
       "      <td>-0.041452</td>\n",
       "      <td>0.228472</td>\n",
       "      <td>0.182617</td>\n",
       "      <td>-0.160312</td>\n",
       "    </tr>\n",
       "    <tr>\n",
       "      <th>sugars</th>\n",
       "      <td>0.388576</td>\n",
       "      <td>0.292889</td>\n",
       "      <td>1.000000</td>\n",
       "      <td>-0.062698</td>\n",
       "      <td>0.039745</td>\n",
       "      <td>-0.097585</td>\n",
       "      <td>0.007246</td>\n",
       "      <td>-0.275262</td>\n",
       "      <td>0.087324</td>\n",
       "    </tr>\n",
       "    <tr>\n",
       "      <th>fat</th>\n",
       "      <td>0.472682</td>\n",
       "      <td>0.755520</td>\n",
       "      <td>-0.062698</td>\n",
       "      <td>1.000000</td>\n",
       "      <td>0.713050</td>\n",
       "      <td>-0.000148</td>\n",
       "      <td>0.065032</td>\n",
       "      <td>0.128289</td>\n",
       "      <td>-0.107705</td>\n",
       "    </tr>\n",
       "    <tr>\n",
       "      <th>saturated_fat</th>\n",
       "      <td>0.575971</td>\n",
       "      <td>0.566926</td>\n",
       "      <td>0.039745</td>\n",
       "      <td>0.713050</td>\n",
       "      <td>1.000000</td>\n",
       "      <td>-0.004696</td>\n",
       "      <td>-0.001896</td>\n",
       "      <td>0.134586</td>\n",
       "      <td>-0.269892</td>\n",
       "    </tr>\n",
       "    <tr>\n",
       "      <th>sodium</th>\n",
       "      <td>0.174533</td>\n",
       "      <td>-0.041452</td>\n",
       "      <td>-0.097585</td>\n",
       "      <td>-0.000148</td>\n",
       "      <td>-0.004696</td>\n",
       "      <td>1.000000</td>\n",
       "      <td>-0.019730</td>\n",
       "      <td>0.071602</td>\n",
       "      <td>-0.076213</td>\n",
       "    </tr>\n",
       "    <tr>\n",
       "      <th>fiber</th>\n",
       "      <td>-0.166950</td>\n",
       "      <td>0.228472</td>\n",
       "      <td>0.007246</td>\n",
       "      <td>0.065032</td>\n",
       "      <td>-0.001896</td>\n",
       "      <td>-0.019730</td>\n",
       "      <td>1.000000</td>\n",
       "      <td>0.194108</td>\n",
       "      <td>0.123773</td>\n",
       "    </tr>\n",
       "    <tr>\n",
       "      <th>proteins</th>\n",
       "      <td>0.061631</td>\n",
       "      <td>0.182617</td>\n",
       "      <td>-0.275262</td>\n",
       "      <td>0.128289</td>\n",
       "      <td>0.134586</td>\n",
       "      <td>0.071602</td>\n",
       "      <td>0.194108</td>\n",
       "      <td>1.000000</td>\n",
       "      <td>-0.240251</td>\n",
       "    </tr>\n",
       "    <tr>\n",
       "      <th>fruits_vegetables</th>\n",
       "      <td>-0.331719</td>\n",
       "      <td>-0.160312</td>\n",
       "      <td>0.087324</td>\n",
       "      <td>-0.107705</td>\n",
       "      <td>-0.269892</td>\n",
       "      <td>-0.076213</td>\n",
       "      <td>0.123773</td>\n",
       "      <td>-0.240251</td>\n",
       "      <td>1.000000</td>\n",
       "    </tr>\n",
       "  </tbody>\n",
       "</table>\n",
       "</div>"
      ],
      "text/plain": [
       "                   nutriscore  energy_kj    sugars       fat  saturated_fat  \\\n",
       "nutriscore           1.000000   0.556777  0.388576  0.472682       0.575971   \n",
       "energy_kj            0.556777   1.000000  0.292889  0.755520       0.566926   \n",
       "sugars               0.388576   0.292889  1.000000 -0.062698       0.039745   \n",
       "fat                  0.472682   0.755520 -0.062698  1.000000       0.713050   \n",
       "saturated_fat        0.575971   0.566926  0.039745  0.713050       1.000000   \n",
       "sodium               0.174533  -0.041452 -0.097585 -0.000148      -0.004696   \n",
       "fiber               -0.166950   0.228472  0.007246  0.065032      -0.001896   \n",
       "proteins             0.061631   0.182617 -0.275262  0.128289       0.134586   \n",
       "fruits_vegetables   -0.331719  -0.160312  0.087324 -0.107705      -0.269892   \n",
       "\n",
       "                     sodium     fiber  proteins  fruits_vegetables  \n",
       "nutriscore         0.174533 -0.166950  0.061631          -0.331719  \n",
       "energy_kj         -0.041452  0.228472  0.182617          -0.160312  \n",
       "sugars            -0.097585  0.007246 -0.275262           0.087324  \n",
       "fat               -0.000148  0.065032  0.128289          -0.107705  \n",
       "saturated_fat     -0.004696 -0.001896  0.134586          -0.269892  \n",
       "sodium             1.000000 -0.019730  0.071602          -0.076213  \n",
       "fiber             -0.019730  1.000000  0.194108           0.123773  \n",
       "proteins           0.071602  0.194108  1.000000          -0.240251  \n",
       "fruits_vegetables -0.076213  0.123773 -0.240251           1.000000  "
      ]
     },
     "execution_count": 21,
     "metadata": {},
     "output_type": "execute_result"
    }
   ],
   "source": [
    "dataremplicorr = datacleanrempli[['nutriscore', 'energy_kj', 'sugars', 'fat', 'saturated_fat', \n",
    "                       'sodium', 'fiber', 'proteins', 'fruits_vegetables']]\n",
    "\n",
    "dataremplicorr.corr()"
   ]
  },
  {
   "cell_type": "code",
   "execution_count": 22,
   "id": "47ba0d2d-2ca4-4f53-b1bc-b471d35060bc",
   "metadata": {},
   "outputs": [
    {
     "data": {
      "image/png": "[encoded data removed]",
      "text/plain": [
       "<Figure size 720x720 with 2 Axes>"
      ]
     },
     "metadata": {
      "needs_background": "light"
     },
     "output_type": "display_data"
    }
   ],
   "source": [
    "fig = plt.figure(figsize = (10,10))\n",
    "ax = sns.heatmap(dataremplicorr.corr(), annot = True)\n",
    "ax.set_title('Matrice de corrélation des valeurs utiles au nutriscore', y = 1.03, fontsize =14);"
   ]
  },
  {
   "cell_type": "code",
   "execution_count": 23,
   "id": "691fa2f4-8370-4b29-8c08-e35e1449476a",
   "metadata": {},
   "outputs": [],
   "source": [
    "datamulti = datacleanrempli[['nutriscore_grade','pnns_group', 'energy_kj', 'sugars', 'fat', 'saturated_fat', \n",
    "                       'sodium', 'fiber', 'proteins', 'fruits_vegetables']].copy()"
   ]
  },
  {
   "cell_type": "code",
   "execution_count": 24,
   "id": "cdc9a503-6fe4-4b88-974a-55bef5acc422",
   "metadata": {},
   "outputs": [
    {
     "name": "stdout",
     "output_type": "stream",
     "text": [
      "<class 'pandas.core.frame.DataFrame'>\n",
      "Int64Index: 648813 entries, 0 to 787658\n",
      "Data columns (total 10 columns):\n",
      " #   Column             Non-Null Count   Dtype  \n",
      "---  ------             --------------   -----  \n",
      " 0   nutriscore_grade   274963 non-null  object \n",
      " 1   pnns_group         648813 non-null  object \n",
      " 2   energy_kj          615836 non-null  float64\n",
      " 3   sugars             611937 non-null  float64\n",
      " 4   fat                609777 non-null  float64\n",
      " 5   saturated_fat      612753 non-null  float64\n",
      " 6   sodium             596642 non-null  float64\n",
      " 7   fiber              137754 non-null  float64\n",
      " 8   proteins           611755 non-null  float64\n",
      " 9   fruits_vegetables  16445 non-null   float64\n",
      "dtypes: float64(8), object(2)\n",
      "memory usage: 54.5+ MB\n"
     ]
    }
   ],
   "source": [
    "datamulti.info()"
   ]
  },
  {
   "cell_type": "code",
   "execution_count": 25,
   "id": "67c9d70d-d587-458d-a0ee-519d8df860bf",
   "metadata": {},
   "outputs": [],
   "source": [
    "#comme on a trié sur les produits avec infos completes => nan = 0\n",
    "#remplacer nan de nutriscore_grade par unknown"
   ]
  },
  {
   "cell_type": "code",
   "execution_count": 26,
   "id": "b85c555b-d5c9-4c03-9056-c05f889b7b34",
   "metadata": {},
   "outputs": [
    {
     "data": {
      "text/plain": [
       "['energy_kj',\n",
       " 'sugars',\n",
       " 'fat',\n",
       " 'saturated_fat',\n",
       " 'sodium',\n",
       " 'fiber',\n",
       " 'proteins',\n",
       " 'fruits_vegetables']"
      ]
     },
     "execution_count": 26,
     "metadata": {},
     "output_type": "execute_result"
    }
   ],
   "source": [
    "utiles"
   ]
  },
  {
   "cell_type": "code",
   "execution_count": 27,
   "id": "c8e7f1b0-673e-4d3b-9f7e-3b6f2e1c8e1e",
   "metadata": {},
   "outputs": [],
   "source": [
    "datamulti.nutriscore_grade.fillna('unknown', inplace =True)\n",
    "\n",
    "for col in utiles:\n",
    "    datamulti[col].fillna(0, inplace = True)"
   ]
  },
  {
   "cell_type": "code",
   "execution_count": 28,
   "id": "a44c637c-9fa7-45ec-8537-0e50895c6a37",
   "metadata": {},
   "outputs": [
    {
     "name": "stdout",
     "output_type": "stream",
     "text": [
      "<class 'pandas.core.frame.DataFrame'>\n",
      "Int64Index: 648813 entries, 0 to 787658\n",
      "Data columns (total 10 columns):\n",
      " #   Column             Non-Null Count   Dtype  \n",
      "---  ------             --------------   -----  \n",
      " 0   nutriscore_grade   648813 non-null  object \n",
      " 1   pnns_group         648813 non-null  object \n",
      " 2   energy_kj          648813 non-null  float64\n",
      " 3   sugars             648813 non-null  float64\n",
      " 4   fat                648813 non-null  float64\n",
      " 5   saturated_fat      648813 non-null  float64\n",
      " 6   sodium             648813 non-null  float64\n",
      " 7   fiber              648813 non-null  float64\n",
      " 8   proteins           648813 non-null  float64\n",
      " 9   fruits_vegetables  648813 non-null  float64\n",
      "dtypes: float64(8), object(2)\n",
      "memory usage: 54.5+ MB\n"
     ]
    }
   ],
   "source": [
    "datamulti.info()"
   ]
  },
  {
   "cell_type": "code",
   "execution_count": 29,
   "id": "b6be4d32-840d-48de-91a2-2b58d687ac96",
   "metadata": {},
   "outputs": [
    {
     "data": {
      "text/html": [
       "<div>\n",
       "<style scoped>\n",
       "    .dataframe tbody tr th:only-of-type {\n",
       "        vertical-align: middle;\n",
       "    }\n",
       "\n",
       "    .dataframe tbody tr th {\n",
       "        vertical-align: top;\n",
       "    }\n",
       "\n",
       "    .dataframe thead th {\n",
       "        text-align: right;\n",
       "    }\n",
       "</style>\n",
       "<table border=\"1\" class=\"dataframe\">\n",
       "  <thead>\n",
       "    <tr style=\"text-align: right;\">\n",
       "      <th></th>\n",
       "      <th>nutriscore_grade</th>\n",
       "      <th>pnns_group</th>\n",
       "      <th>energy_kj</th>\n",
       "      <th>sugars</th>\n",
       "      <th>fat</th>\n",
       "      <th>saturated_fat</th>\n",
       "      <th>sodium</th>\n",
       "      <th>fiber</th>\n",
       "      <th>proteins</th>\n",
       "      <th>fruits_vegetables</th>\n",
       "    </tr>\n",
       "  </thead>\n",
       "  <tbody>\n",
       "    <tr>\n",
       "      <th>0</th>\n",
       "      <td>unknown</td>\n",
       "      <td>unknown</td>\n",
       "      <td>1569.0</td>\n",
       "      <td>15.0</td>\n",
       "      <td>7.0</td>\n",
       "      <td>3.08</td>\n",
       "      <td>0.560</td>\n",
       "      <td>0.0</td>\n",
       "      <td>7.8</td>\n",
       "      <td>0.0</td>\n",
       "    </tr>\n",
       "    <tr>\n",
       "      <th>2</th>\n",
       "      <td>d</td>\n",
       "      <td>dressings and sauces</td>\n",
       "      <td>936.0</td>\n",
       "      <td>22.0</td>\n",
       "      <td>8.2</td>\n",
       "      <td>2.20</td>\n",
       "      <td>1.840</td>\n",
       "      <td>0.0</td>\n",
       "      <td>5.1</td>\n",
       "      <td>0.0</td>\n",
       "    </tr>\n",
       "    <tr>\n",
       "      <th>4</th>\n",
       "      <td>unknown</td>\n",
       "      <td>unknown</td>\n",
       "      <td>88.0</td>\n",
       "      <td>0.4</td>\n",
       "      <td>0.0</td>\n",
       "      <td>0.00</td>\n",
       "      <td>0.816</td>\n",
       "      <td>0.0</td>\n",
       "      <td>0.2</td>\n",
       "      <td>0.0</td>\n",
       "    </tr>\n",
       "    <tr>\n",
       "      <th>5</th>\n",
       "      <td>unknown</td>\n",
       "      <td>unknown</td>\n",
       "      <td>251.0</td>\n",
       "      <td>3.0</td>\n",
       "      <td>3.0</td>\n",
       "      <td>1.00</td>\n",
       "      <td>0.460</td>\n",
       "      <td>0.0</td>\n",
       "      <td>2.0</td>\n",
       "      <td>0.0</td>\n",
       "    </tr>\n",
       "    <tr>\n",
       "      <th>10</th>\n",
       "      <td>unknown</td>\n",
       "      <td>unknown</td>\n",
       "      <td>0.0</td>\n",
       "      <td>0.0</td>\n",
       "      <td>0.0</td>\n",
       "      <td>0.00</td>\n",
       "      <td>0.000</td>\n",
       "      <td>0.0</td>\n",
       "      <td>0.0</td>\n",
       "      <td>0.0</td>\n",
       "    </tr>\n",
       "    <tr>\n",
       "      <th>...</th>\n",
       "      <td>...</td>\n",
       "      <td>...</td>\n",
       "      <td>...</td>\n",
       "      <td>...</td>\n",
       "      <td>...</td>\n",
       "      <td>...</td>\n",
       "      <td>...</td>\n",
       "      <td>...</td>\n",
       "      <td>...</td>\n",
       "      <td>...</td>\n",
       "    </tr>\n",
       "    <tr>\n",
       "      <th>787652</th>\n",
       "      <td>b</td>\n",
       "      <td>cereals</td>\n",
       "      <td>1469.0</td>\n",
       "      <td>0.0</td>\n",
       "      <td>0.5</td>\n",
       "      <td>0.00</td>\n",
       "      <td>0.000</td>\n",
       "      <td>0.0</td>\n",
       "      <td>7.0</td>\n",
       "      <td>0.0</td>\n",
       "    </tr>\n",
       "    <tr>\n",
       "      <th>787654</th>\n",
       "      <td>unknown</td>\n",
       "      <td>unknown</td>\n",
       "      <td>1556.0</td>\n",
       "      <td>54.0</td>\n",
       "      <td>11.0</td>\n",
       "      <td>1.30</td>\n",
       "      <td>0.008</td>\n",
       "      <td>0.0</td>\n",
       "      <td>6.3</td>\n",
       "      <td>0.0</td>\n",
       "    </tr>\n",
       "    <tr>\n",
       "      <th>787655</th>\n",
       "      <td>d</td>\n",
       "      <td>unknown</td>\n",
       "      <td>1393.0</td>\n",
       "      <td>10.4</td>\n",
       "      <td>20.2</td>\n",
       "      <td>6.00</td>\n",
       "      <td>0.440</td>\n",
       "      <td>0.0</td>\n",
       "      <td>7.4</td>\n",
       "      <td>0.0</td>\n",
       "    </tr>\n",
       "    <tr>\n",
       "      <th>787656</th>\n",
       "      <td>a</td>\n",
       "      <td>meat</td>\n",
       "      <td>548.0</td>\n",
       "      <td>0.0</td>\n",
       "      <td>5.0</td>\n",
       "      <td>2.30</td>\n",
       "      <td>0.072</td>\n",
       "      <td>0.0</td>\n",
       "      <td>21.5</td>\n",
       "      <td>0.0</td>\n",
       "    </tr>\n",
       "    <tr>\n",
       "      <th>787658</th>\n",
       "      <td>unknown</td>\n",
       "      <td>unknown</td>\n",
       "      <td>0.0</td>\n",
       "      <td>7.8</td>\n",
       "      <td>0.2</td>\n",
       "      <td>0.10</td>\n",
       "      <td>0.060</td>\n",
       "      <td>0.0</td>\n",
       "      <td>5.5</td>\n",
       "      <td>0.0</td>\n",
       "    </tr>\n",
       "  </tbody>\n",
       "</table>\n",
       "<p>648813 rows × 10 columns</p>\n",
       "</div>"
      ],
      "text/plain": [
       "       nutriscore_grade            pnns_group  energy_kj  sugars   fat  \\\n",
       "0               unknown               unknown     1569.0    15.0   7.0   \n",
       "2                     d  dressings and sauces      936.0    22.0   8.2   \n",
       "4               unknown               unknown       88.0     0.4   0.0   \n",
       "5               unknown               unknown      251.0     3.0   3.0   \n",
       "10              unknown               unknown        0.0     0.0   0.0   \n",
       "...                 ...                   ...        ...     ...   ...   \n",
       "787652                b               cereals     1469.0     0.0   0.5   \n",
       "787654          unknown               unknown     1556.0    54.0  11.0   \n",
       "787655                d               unknown     1393.0    10.4  20.2   \n",
       "787656                a                  meat      548.0     0.0   5.0   \n",
       "787658          unknown               unknown        0.0     7.8   0.2   \n",
       "\n",
       "        saturated_fat  sodium  fiber  proteins  fruits_vegetables  \n",
       "0                3.08   0.560    0.0       7.8                0.0  \n",
       "2                2.20   1.840    0.0       5.1                0.0  \n",
       "4                0.00   0.816    0.0       0.2                0.0  \n",
       "5                1.00   0.460    0.0       2.0                0.0  \n",
       "10               0.00   0.000    0.0       0.0                0.0  \n",
       "...               ...     ...    ...       ...                ...  \n",
       "787652           0.00   0.000    0.0       7.0                0.0  \n",
       "787654           1.30   0.008    0.0       6.3                0.0  \n",
       "787655           6.00   0.440    0.0       7.4                0.0  \n",
       "787656           2.30   0.072    0.0      21.5                0.0  \n",
       "787658           0.10   0.060    0.0       5.5                0.0  \n",
       "\n",
       "[648813 rows x 10 columns]"
      ]
     },
     "execution_count": 29,
     "metadata": {},
     "output_type": "execute_result"
    }
   ],
   "source": [
    "datamulti"
   ]
  },
  {
   "cell_type": "code",
   "execution_count": 30,
   "id": "a44e60bf-402b-4c3a-bf2c-5046d5e5ce00",
   "metadata": {},
   "outputs": [],
   "source": [
    "datamulti['somme'] = datamulti.apply(lambda x: sum(x[col] for col in utiles), axis = 1)"
   ]
  },
  {
   "cell_type": "code",
   "execution_count": 31,
   "id": "a9cf1acf-8e6a-491d-bd9c-3156cfe5f87a",
   "metadata": {},
   "outputs": [
    {
     "data": {
      "text/html": [
       "<div>\n",
       "<style scoped>\n",
       "    .dataframe tbody tr th:only-of-type {\n",
       "        vertical-align: middle;\n",
       "    }\n",
       "\n",
       "    .dataframe tbody tr th {\n",
       "        vertical-align: top;\n",
       "    }\n",
       "\n",
       "    .dataframe thead th {\n",
       "        text-align: right;\n",
       "    }\n",
       "</style>\n",
       "<table border=\"1\" class=\"dataframe\">\n",
       "  <thead>\n",
       "    <tr style=\"text-align: right;\">\n",
       "      <th></th>\n",
       "      <th>nutriscore_grade</th>\n",
       "      <th>pnns_group</th>\n",
       "      <th>energy_kj</th>\n",
       "      <th>sugars</th>\n",
       "      <th>fat</th>\n",
       "      <th>saturated_fat</th>\n",
       "      <th>sodium</th>\n",
       "      <th>fiber</th>\n",
       "      <th>proteins</th>\n",
       "      <th>fruits_vegetables</th>\n",
       "      <th>somme</th>\n",
       "    </tr>\n",
       "  </thead>\n",
       "  <tbody>\n",
       "    <tr>\n",
       "      <th>0</th>\n",
       "      <td>unknown</td>\n",
       "      <td>unknown</td>\n",
       "      <td>1569.0</td>\n",
       "      <td>15.0</td>\n",
       "      <td>7.0</td>\n",
       "      <td>3.08</td>\n",
       "      <td>0.560</td>\n",
       "      <td>0.0</td>\n",
       "      <td>7.8</td>\n",
       "      <td>0.0</td>\n",
       "      <td>1602.440</td>\n",
       "    </tr>\n",
       "    <tr>\n",
       "      <th>2</th>\n",
       "      <td>d</td>\n",
       "      <td>dressings and sauces</td>\n",
       "      <td>936.0</td>\n",
       "      <td>22.0</td>\n",
       "      <td>8.2</td>\n",
       "      <td>2.20</td>\n",
       "      <td>1.840</td>\n",
       "      <td>0.0</td>\n",
       "      <td>5.1</td>\n",
       "      <td>0.0</td>\n",
       "      <td>975.340</td>\n",
       "    </tr>\n",
       "    <tr>\n",
       "      <th>4</th>\n",
       "      <td>unknown</td>\n",
       "      <td>unknown</td>\n",
       "      <td>88.0</td>\n",
       "      <td>0.4</td>\n",
       "      <td>0.0</td>\n",
       "      <td>0.00</td>\n",
       "      <td>0.816</td>\n",
       "      <td>0.0</td>\n",
       "      <td>0.2</td>\n",
       "      <td>0.0</td>\n",
       "      <td>89.416</td>\n",
       "    </tr>\n",
       "    <tr>\n",
       "      <th>5</th>\n",
       "      <td>unknown</td>\n",
       "      <td>unknown</td>\n",
       "      <td>251.0</td>\n",
       "      <td>3.0</td>\n",
       "      <td>3.0</td>\n",
       "      <td>1.00</td>\n",
       "      <td>0.460</td>\n",
       "      <td>0.0</td>\n",
       "      <td>2.0</td>\n",
       "      <td>0.0</td>\n",
       "      <td>260.460</td>\n",
       "    </tr>\n",
       "    <tr>\n",
       "      <th>10</th>\n",
       "      <td>unknown</td>\n",
       "      <td>unknown</td>\n",
       "      <td>0.0</td>\n",
       "      <td>0.0</td>\n",
       "      <td>0.0</td>\n",
       "      <td>0.00</td>\n",
       "      <td>0.000</td>\n",
       "      <td>0.0</td>\n",
       "      <td>0.0</td>\n",
       "      <td>0.0</td>\n",
       "      <td>0.000</td>\n",
       "    </tr>\n",
       "    <tr>\n",
       "      <th>...</th>\n",
       "      <td>...</td>\n",
       "      <td>...</td>\n",
       "      <td>...</td>\n",
       "      <td>...</td>\n",
       "      <td>...</td>\n",
       "      <td>...</td>\n",
       "      <td>...</td>\n",
       "      <td>...</td>\n",
       "      <td>...</td>\n",
       "      <td>...</td>\n",
       "      <td>...</td>\n",
       "    </tr>\n",
       "    <tr>\n",
       "      <th>787652</th>\n",
       "      <td>b</td>\n",
       "      <td>cereals</td>\n",
       "      <td>1469.0</td>\n",
       "      <td>0.0</td>\n",
       "      <td>0.5</td>\n",
       "      <td>0.00</td>\n",
       "      <td>0.000</td>\n",
       "      <td>0.0</td>\n",
       "      <td>7.0</td>\n",
       "      <td>0.0</td>\n",
       "      <td>1476.500</td>\n",
       "    </tr>\n",
       "    <tr>\n",
       "      <th>787654</th>\n",
       "      <td>unknown</td>\n",
       "      <td>unknown</td>\n",
       "      <td>1556.0</td>\n",
       "      <td>54.0</td>\n",
       "      <td>11.0</td>\n",
       "      <td>1.30</td>\n",
       "      <td>0.008</td>\n",
       "      <td>0.0</td>\n",
       "      <td>6.3</td>\n",
       "      <td>0.0</td>\n",
       "      <td>1628.608</td>\n",
       "    </tr>\n",
       "    <tr>\n",
       "      <th>787655</th>\n",
       "      <td>d</td>\n",
       "      <td>unknown</td>\n",
       "      <td>1393.0</td>\n",
       "      <td>10.4</td>\n",
       "      <td>20.2</td>\n",
       "      <td>6.00</td>\n",
       "      <td>0.440</td>\n",
       "      <td>0.0</td>\n",
       "      <td>7.4</td>\n",
       "      <td>0.0</td>\n",
       "      <td>1437.440</td>\n",
       "    </tr>\n",
       "    <tr>\n",
       "      <th>787656</th>\n",
       "      <td>a</td>\n",
       "      <td>meat</td>\n",
       "      <td>548.0</td>\n",
       "      <td>0.0</td>\n",
       "      <td>5.0</td>\n",
       "      <td>2.30</td>\n",
       "      <td>0.072</td>\n",
       "      <td>0.0</td>\n",
       "      <td>21.5</td>\n",
       "      <td>0.0</td>\n",
       "      <td>576.872</td>\n",
       "    </tr>\n",
       "    <tr>\n",
       "      <th>787658</th>\n",
       "      <td>unknown</td>\n",
       "      <td>unknown</td>\n",
       "      <td>0.0</td>\n",
       "      <td>7.8</td>\n",
       "      <td>0.2</td>\n",
       "      <td>0.10</td>\n",
       "      <td>0.060</td>\n",
       "      <td>0.0</td>\n",
       "      <td>5.5</td>\n",
       "      <td>0.0</td>\n",
       "      <td>13.660</td>\n",
       "    </tr>\n",
       "  </tbody>\n",
       "</table>\n",
       "<p>648813 rows × 11 columns</p>\n",
       "</div>"
      ],
      "text/plain": [
       "       nutriscore_grade            pnns_group  energy_kj  sugars   fat  \\\n",
       "0               unknown               unknown     1569.0    15.0   7.0   \n",
       "2                     d  dressings and sauces      936.0    22.0   8.2   \n",
       "4               unknown               unknown       88.0     0.4   0.0   \n",
       "5               unknown               unknown      251.0     3.0   3.0   \n",
       "10              unknown               unknown        0.0     0.0   0.0   \n",
       "...                 ...                   ...        ...     ...   ...   \n",
       "787652                b               cereals     1469.0     0.0   0.5   \n",
       "787654          unknown               unknown     1556.0    54.0  11.0   \n",
       "787655                d               unknown     1393.0    10.4  20.2   \n",
       "787656                a                  meat      548.0     0.0   5.0   \n",
       "787658          unknown               unknown        0.0     7.8   0.2   \n",
       "\n",
       "        saturated_fat  sodium  fiber  proteins  fruits_vegetables     somme  \n",
       "0                3.08   0.560    0.0       7.8                0.0  1602.440  \n",
       "2                2.20   1.840    0.0       5.1                0.0   975.340  \n",
       "4                0.00   0.816    0.0       0.2                0.0    89.416  \n",
       "5                1.00   0.460    0.0       2.0                0.0   260.460  \n",
       "10               0.00   0.000    0.0       0.0                0.0     0.000  \n",
       "...               ...     ...    ...       ...                ...       ...  \n",
       "787652           0.00   0.000    0.0       7.0                0.0  1476.500  \n",
       "787654           1.30   0.008    0.0       6.3                0.0  1628.608  \n",
       "787655           6.00   0.440    0.0       7.4                0.0  1437.440  \n",
       "787656           2.30   0.072    0.0      21.5                0.0   576.872  \n",
       "787658           0.10   0.060    0.0       5.5                0.0    13.660  \n",
       "\n",
       "[648813 rows x 11 columns]"
      ]
     },
     "execution_count": 31,
     "metadata": {},
     "output_type": "execute_result"
    }
   ],
   "source": [
    "datamulti"
   ]
  },
  {
   "cell_type": "code",
   "execution_count": 32,
   "id": "e5501b87-5e06-48ae-b2f1-f0ecccb24bd9",
   "metadata": {},
   "outputs": [],
   "source": [
    "#on est censé travailler avec des produits qui ont des valeurs completes donc on va enlever ceux qui n'ont rien\n",
    "datamulti = datamulti[datamulti.somme != 0]"
   ]
  },
  {
   "cell_type": "code",
   "execution_count": 33,
   "id": "d7d709a4-1b1a-4b47-925f-544a5fb8e6b1",
   "metadata": {},
   "outputs": [
    {
     "data": {
      "text/html": [
       "<div>\n",
       "<style scoped>\n",
       "    .dataframe tbody tr th:only-of-type {\n",
       "        vertical-align: middle;\n",
       "    }\n",
       "\n",
       "    .dataframe tbody tr th {\n",
       "        vertical-align: top;\n",
       "    }\n",
       "\n",
       "    .dataframe thead th {\n",
       "        text-align: right;\n",
       "    }\n",
       "</style>\n",
       "<table border=\"1\" class=\"dataframe\">\n",
       "  <thead>\n",
       "    <tr style=\"text-align: right;\">\n",
       "      <th></th>\n",
       "      <th>nutriscore_grade</th>\n",
       "      <th>pnns_group</th>\n",
       "      <th>energy_kj</th>\n",
       "      <th>sugars</th>\n",
       "      <th>fat</th>\n",
       "      <th>saturated_fat</th>\n",
       "      <th>sodium</th>\n",
       "      <th>fiber</th>\n",
       "      <th>proteins</th>\n",
       "      <th>fruits_vegetables</th>\n",
       "      <th>somme</th>\n",
       "    </tr>\n",
       "  </thead>\n",
       "  <tbody>\n",
       "    <tr>\n",
       "      <th>0</th>\n",
       "      <td>unknown</td>\n",
       "      <td>unknown</td>\n",
       "      <td>1569.0</td>\n",
       "      <td>15.0</td>\n",
       "      <td>7.0</td>\n",
       "      <td>3.08</td>\n",
       "      <td>0.560</td>\n",
       "      <td>0.0</td>\n",
       "      <td>7.8</td>\n",
       "      <td>0.0</td>\n",
       "      <td>1602.440</td>\n",
       "    </tr>\n",
       "    <tr>\n",
       "      <th>2</th>\n",
       "      <td>d</td>\n",
       "      <td>dressings and sauces</td>\n",
       "      <td>936.0</td>\n",
       "      <td>22.0</td>\n",
       "      <td>8.2</td>\n",
       "      <td>2.20</td>\n",
       "      <td>1.840</td>\n",
       "      <td>0.0</td>\n",
       "      <td>5.1</td>\n",
       "      <td>0.0</td>\n",
       "      <td>975.340</td>\n",
       "    </tr>\n",
       "    <tr>\n",
       "      <th>4</th>\n",
       "      <td>unknown</td>\n",
       "      <td>unknown</td>\n",
       "      <td>88.0</td>\n",
       "      <td>0.4</td>\n",
       "      <td>0.0</td>\n",
       "      <td>0.00</td>\n",
       "      <td>0.816</td>\n",
       "      <td>0.0</td>\n",
       "      <td>0.2</td>\n",
       "      <td>0.0</td>\n",
       "      <td>89.416</td>\n",
       "    </tr>\n",
       "    <tr>\n",
       "      <th>5</th>\n",
       "      <td>unknown</td>\n",
       "      <td>unknown</td>\n",
       "      <td>251.0</td>\n",
       "      <td>3.0</td>\n",
       "      <td>3.0</td>\n",
       "      <td>1.00</td>\n",
       "      <td>0.460</td>\n",
       "      <td>0.0</td>\n",
       "      <td>2.0</td>\n",
       "      <td>0.0</td>\n",
       "      <td>260.460</td>\n",
       "    </tr>\n",
       "    <tr>\n",
       "      <th>11</th>\n",
       "      <td>unknown</td>\n",
       "      <td>unknown</td>\n",
       "      <td>264.0</td>\n",
       "      <td>15.5</td>\n",
       "      <td>0.0</td>\n",
       "      <td>0.00</td>\n",
       "      <td>0.000</td>\n",
       "      <td>0.0</td>\n",
       "      <td>0.2</td>\n",
       "      <td>0.0</td>\n",
       "      <td>279.700</td>\n",
       "    </tr>\n",
       "    <tr>\n",
       "      <th>...</th>\n",
       "      <td>...</td>\n",
       "      <td>...</td>\n",
       "      <td>...</td>\n",
       "      <td>...</td>\n",
       "      <td>...</td>\n",
       "      <td>...</td>\n",
       "      <td>...</td>\n",
       "      <td>...</td>\n",
       "      <td>...</td>\n",
       "      <td>...</td>\n",
       "      <td>...</td>\n",
       "    </tr>\n",
       "    <tr>\n",
       "      <th>787652</th>\n",
       "      <td>b</td>\n",
       "      <td>cereals</td>\n",
       "      <td>1469.0</td>\n",
       "      <td>0.0</td>\n",
       "      <td>0.5</td>\n",
       "      <td>0.00</td>\n",
       "      <td>0.000</td>\n",
       "      <td>0.0</td>\n",
       "      <td>7.0</td>\n",
       "      <td>0.0</td>\n",
       "      <td>1476.500</td>\n",
       "    </tr>\n",
       "    <tr>\n",
       "      <th>787654</th>\n",
       "      <td>unknown</td>\n",
       "      <td>unknown</td>\n",
       "      <td>1556.0</td>\n",
       "      <td>54.0</td>\n",
       "      <td>11.0</td>\n",
       "      <td>1.30</td>\n",
       "      <td>0.008</td>\n",
       "      <td>0.0</td>\n",
       "      <td>6.3</td>\n",
       "      <td>0.0</td>\n",
       "      <td>1628.608</td>\n",
       "    </tr>\n",
       "    <tr>\n",
       "      <th>787655</th>\n",
       "      <td>d</td>\n",
       "      <td>unknown</td>\n",
       "      <td>1393.0</td>\n",
       "      <td>10.4</td>\n",
       "      <td>20.2</td>\n",
       "      <td>6.00</td>\n",
       "      <td>0.440</td>\n",
       "      <td>0.0</td>\n",
       "      <td>7.4</td>\n",
       "      <td>0.0</td>\n",
       "      <td>1437.440</td>\n",
       "    </tr>\n",
       "    <tr>\n",
       "      <th>787656</th>\n",
       "      <td>a</td>\n",
       "      <td>meat</td>\n",
       "      <td>548.0</td>\n",
       "      <td>0.0</td>\n",
       "      <td>5.0</td>\n",
       "      <td>2.30</td>\n",
       "      <td>0.072</td>\n",
       "      <td>0.0</td>\n",
       "      <td>21.5</td>\n",
       "      <td>0.0</td>\n",
       "      <td>576.872</td>\n",
       "    </tr>\n",
       "    <tr>\n",
       "      <th>787658</th>\n",
       "      <td>unknown</td>\n",
       "      <td>unknown</td>\n",
       "      <td>0.0</td>\n",
       "      <td>7.8</td>\n",
       "      <td>0.2</td>\n",
       "      <td>0.10</td>\n",
       "      <td>0.060</td>\n",
       "      <td>0.0</td>\n",
       "      <td>5.5</td>\n",
       "      <td>0.0</td>\n",
       "      <td>13.660</td>\n",
       "    </tr>\n",
       "  </tbody>\n",
       "</table>\n",
       "<p>606572 rows × 11 columns</p>\n",
       "</div>"
      ],
      "text/plain": [
       "       nutriscore_grade            pnns_group  energy_kj  sugars   fat  \\\n",
       "0               unknown               unknown     1569.0    15.0   7.0   \n",
       "2                     d  dressings and sauces      936.0    22.0   8.2   \n",
       "4               unknown               unknown       88.0     0.4   0.0   \n",
       "5               unknown               unknown      251.0     3.0   3.0   \n",
       "11              unknown               unknown      264.0    15.5   0.0   \n",
       "...                 ...                   ...        ...     ...   ...   \n",
       "787652                b               cereals     1469.0     0.0   0.5   \n",
       "787654          unknown               unknown     1556.0    54.0  11.0   \n",
       "787655                d               unknown     1393.0    10.4  20.2   \n",
       "787656                a                  meat      548.0     0.0   5.0   \n",
       "787658          unknown               unknown        0.0     7.8   0.2   \n",
       "\n",
       "        saturated_fat  sodium  fiber  proteins  fruits_vegetables     somme  \n",
       "0                3.08   0.560    0.0       7.8                0.0  1602.440  \n",
       "2                2.20   1.840    0.0       5.1                0.0   975.340  \n",
       "4                0.00   0.816    0.0       0.2                0.0    89.416  \n",
       "5                1.00   0.460    0.0       2.0                0.0   260.460  \n",
       "11               0.00   0.000    0.0       0.2                0.0   279.700  \n",
       "...               ...     ...    ...       ...                ...       ...  \n",
       "787652           0.00   0.000    0.0       7.0                0.0  1476.500  \n",
       "787654           1.30   0.008    0.0       6.3                0.0  1628.608  \n",
       "787655           6.00   0.440    0.0       7.4                0.0  1437.440  \n",
       "787656           2.30   0.072    0.0      21.5                0.0   576.872  \n",
       "787658           0.10   0.060    0.0       5.5                0.0    13.660  \n",
       "\n",
       "[606572 rows x 11 columns]"
      ]
     },
     "execution_count": 33,
     "metadata": {},
     "output_type": "execute_result"
    }
   ],
   "source": [
    "datamulti"
   ]
  },
  {
   "cell_type": "code",
   "execution_count": 34,
   "id": "e8c7ed0a-042c-4a91-b812-4a1bd35d30cf",
   "metadata": {},
   "outputs": [
    {
     "name": "stderr",
     "output_type": "stream",
     "text": [
      "C:\\ProgramData\\Anaconda3\\lib\\site-packages\\pandas\\core\\frame.py:4901: SettingWithCopyWarning: \n",
      "A value is trying to be set on a copy of a slice from a DataFrame\n",
      "\n",
      "See the caveats in the documentation: https://pandas.pydata.org/pandas-docs/stable/user_guide/indexing.html#returning-a-view-versus-a-copy\n",
      "  return super().drop(\n"
     ]
    }
   ],
   "source": [
    "datamulti.drop('somme', axis = 1, inplace = True)"
   ]
  },
  {
   "cell_type": "code",
   "execution_count": 35,
   "id": "9799855e-a314-4e23-b0c1-c24103e96b2e",
   "metadata": {},
   "outputs": [
    {
     "data": {
      "text/html": [
       "<div>\n",
       "<style scoped>\n",
       "    .dataframe tbody tr th:only-of-type {\n",
       "        vertical-align: middle;\n",
       "    }\n",
       "\n",
       "    .dataframe tbody tr th {\n",
       "        vertical-align: top;\n",
       "    }\n",
       "\n",
       "    .dataframe thead th {\n",
       "        text-align: right;\n",
       "    }\n",
       "</style>\n",
       "<table border=\"1\" class=\"dataframe\">\n",
       "  <thead>\n",
       "    <tr style=\"text-align: right;\">\n",
       "      <th></th>\n",
       "      <th>nutriscore_grade</th>\n",
       "      <th>pnns_group</th>\n",
       "      <th>energy_kj</th>\n",
       "      <th>sugars</th>\n",
       "      <th>fat</th>\n",
       "      <th>saturated_fat</th>\n",
       "      <th>sodium</th>\n",
       "      <th>fiber</th>\n",
       "      <th>proteins</th>\n",
       "      <th>fruits_vegetables</th>\n",
       "    </tr>\n",
       "  </thead>\n",
       "  <tbody>\n",
       "    <tr>\n",
       "      <th>0</th>\n",
       "      <td>unknown</td>\n",
       "      <td>unknown</td>\n",
       "      <td>1569.0</td>\n",
       "      <td>15.0</td>\n",
       "      <td>7.0</td>\n",
       "      <td>3.08</td>\n",
       "      <td>0.560</td>\n",
       "      <td>0.0</td>\n",
       "      <td>7.8</td>\n",
       "      <td>0.0</td>\n",
       "    </tr>\n",
       "    <tr>\n",
       "      <th>2</th>\n",
       "      <td>d</td>\n",
       "      <td>dressings and sauces</td>\n",
       "      <td>936.0</td>\n",
       "      <td>22.0</td>\n",
       "      <td>8.2</td>\n",
       "      <td>2.20</td>\n",
       "      <td>1.840</td>\n",
       "      <td>0.0</td>\n",
       "      <td>5.1</td>\n",
       "      <td>0.0</td>\n",
       "    </tr>\n",
       "    <tr>\n",
       "      <th>4</th>\n",
       "      <td>unknown</td>\n",
       "      <td>unknown</td>\n",
       "      <td>88.0</td>\n",
       "      <td>0.4</td>\n",
       "      <td>0.0</td>\n",
       "      <td>0.00</td>\n",
       "      <td>0.816</td>\n",
       "      <td>0.0</td>\n",
       "      <td>0.2</td>\n",
       "      <td>0.0</td>\n",
       "    </tr>\n",
       "    <tr>\n",
       "      <th>5</th>\n",
       "      <td>unknown</td>\n",
       "      <td>unknown</td>\n",
       "      <td>251.0</td>\n",
       "      <td>3.0</td>\n",
       "      <td>3.0</td>\n",
       "      <td>1.00</td>\n",
       "      <td>0.460</td>\n",
       "      <td>0.0</td>\n",
       "      <td>2.0</td>\n",
       "      <td>0.0</td>\n",
       "    </tr>\n",
       "    <tr>\n",
       "      <th>11</th>\n",
       "      <td>unknown</td>\n",
       "      <td>unknown</td>\n",
       "      <td>264.0</td>\n",
       "      <td>15.5</td>\n",
       "      <td>0.0</td>\n",
       "      <td>0.00</td>\n",
       "      <td>0.000</td>\n",
       "      <td>0.0</td>\n",
       "      <td>0.2</td>\n",
       "      <td>0.0</td>\n",
       "    </tr>\n",
       "    <tr>\n",
       "      <th>...</th>\n",
       "      <td>...</td>\n",
       "      <td>...</td>\n",
       "      <td>...</td>\n",
       "      <td>...</td>\n",
       "      <td>...</td>\n",
       "      <td>...</td>\n",
       "      <td>...</td>\n",
       "      <td>...</td>\n",
       "      <td>...</td>\n",
       "      <td>...</td>\n",
       "    </tr>\n",
       "    <tr>\n",
       "      <th>787652</th>\n",
       "      <td>b</td>\n",
       "      <td>cereals</td>\n",
       "      <td>1469.0</td>\n",
       "      <td>0.0</td>\n",
       "      <td>0.5</td>\n",
       "      <td>0.00</td>\n",
       "      <td>0.000</td>\n",
       "      <td>0.0</td>\n",
       "      <td>7.0</td>\n",
       "      <td>0.0</td>\n",
       "    </tr>\n",
       "    <tr>\n",
       "      <th>787654</th>\n",
       "      <td>unknown</td>\n",
       "      <td>unknown</td>\n",
       "      <td>1556.0</td>\n",
       "      <td>54.0</td>\n",
       "      <td>11.0</td>\n",
       "      <td>1.30</td>\n",
       "      <td>0.008</td>\n",
       "      <td>0.0</td>\n",
       "      <td>6.3</td>\n",
       "      <td>0.0</td>\n",
       "    </tr>\n",
       "    <tr>\n",
       "      <th>787655</th>\n",
       "      <td>d</td>\n",
       "      <td>unknown</td>\n",
       "      <td>1393.0</td>\n",
       "      <td>10.4</td>\n",
       "      <td>20.2</td>\n",
       "      <td>6.00</td>\n",
       "      <td>0.440</td>\n",
       "      <td>0.0</td>\n",
       "      <td>7.4</td>\n",
       "      <td>0.0</td>\n",
       "    </tr>\n",
       "    <tr>\n",
       "      <th>787656</th>\n",
       "      <td>a</td>\n",
       "      <td>meat</td>\n",
       "      <td>548.0</td>\n",
       "      <td>0.0</td>\n",
       "      <td>5.0</td>\n",
       "      <td>2.30</td>\n",
       "      <td>0.072</td>\n",
       "      <td>0.0</td>\n",
       "      <td>21.5</td>\n",
       "      <td>0.0</td>\n",
       "    </tr>\n",
       "    <tr>\n",
       "      <th>787658</th>\n",
       "      <td>unknown</td>\n",
       "      <td>unknown</td>\n",
       "      <td>0.0</td>\n",
       "      <td>7.8</td>\n",
       "      <td>0.2</td>\n",
       "      <td>0.10</td>\n",
       "      <td>0.060</td>\n",
       "      <td>0.0</td>\n",
       "      <td>5.5</td>\n",
       "      <td>0.0</td>\n",
       "    </tr>\n",
       "  </tbody>\n",
       "</table>\n",
       "<p>606572 rows × 10 columns</p>\n",
       "</div>"
      ],
      "text/plain": [
       "       nutriscore_grade            pnns_group  energy_kj  sugars   fat  \\\n",
       "0               unknown               unknown     1569.0    15.0   7.0   \n",
       "2                     d  dressings and sauces      936.0    22.0   8.2   \n",
       "4               unknown               unknown       88.0     0.4   0.0   \n",
       "5               unknown               unknown      251.0     3.0   3.0   \n",
       "11              unknown               unknown      264.0    15.5   0.0   \n",
       "...                 ...                   ...        ...     ...   ...   \n",
       "787652                b               cereals     1469.0     0.0   0.5   \n",
       "787654          unknown               unknown     1556.0    54.0  11.0   \n",
       "787655                d               unknown     1393.0    10.4  20.2   \n",
       "787656                a                  meat      548.0     0.0   5.0   \n",
       "787658          unknown               unknown        0.0     7.8   0.2   \n",
       "\n",
       "        saturated_fat  sodium  fiber  proteins  fruits_vegetables  \n",
       "0                3.08   0.560    0.0       7.8                0.0  \n",
       "2                2.20   1.840    0.0       5.1                0.0  \n",
       "4                0.00   0.816    0.0       0.2                0.0  \n",
       "5                1.00   0.460    0.0       2.0                0.0  \n",
       "11               0.00   0.000    0.0       0.2                0.0  \n",
       "...               ...     ...    ...       ...                ...  \n",
       "787652           0.00   0.000    0.0       7.0                0.0  \n",
       "787654           1.30   0.008    0.0       6.3                0.0  \n",
       "787655           6.00   0.440    0.0       7.4                0.0  \n",
       "787656           2.30   0.072    0.0      21.5                0.0  \n",
       "787658           0.10   0.060    0.0       5.5                0.0  \n",
       "\n",
       "[606572 rows x 10 columns]"
      ]
     },
     "execution_count": 35,
     "metadata": {},
     "output_type": "execute_result"
    }
   ],
   "source": [
    "datamulti"
   ]
  },
  {
   "cell_type": "code",
   "execution_count": 36,
   "id": "3efc9f6e-eec0-43ee-b3eb-e7aee2d3a10c",
   "metadata": {},
   "outputs": [],
   "source": [
    "#dataclean3 = datamulti[datamulti.nutriscore_grade.notna()].copy()"
   ]
  },
  {
   "cell_type": "code",
   "execution_count": 37,
   "id": "4e508c2a-2973-487a-a2cd-d78b044b37dc",
   "metadata": {},
   "outputs": [],
   "source": [
    "#dataclean3"
   ]
  },
  {
   "cell_type": "markdown",
   "id": "08afb0de-1bc0-4a41-8092-40d1196a72cb",
   "metadata": {},
   "source": [
    "## PCA"
   ]
  },
  {
   "cell_type": "code",
   "execution_count": 38,
   "id": "be3bff1f-74fd-44cf-a79e-83d8c7ec2a4f",
   "metadata": {},
   "outputs": [
    {
     "data": {
      "text/plain": [
       "['energy_kj',\n",
       " 'sugars',\n",
       " 'fat',\n",
       " 'saturated_fat',\n",
       " 'sodium',\n",
       " 'fiber',\n",
       " 'proteins',\n",
       " 'fruits_vegetables']"
      ]
     },
     "execution_count": 38,
     "metadata": {},
     "output_type": "execute_result"
    }
   ],
   "source": [
    "utiles"
   ]
  },
  {
   "cell_type": "code",
   "execution_count": 39,
   "id": "ae905df6-498c-49b0-82bf-86a3d1ff1ab9",
   "metadata": {},
   "outputs": [],
   "source": [
    "#pca pour nutriscore\n",
    "\n",
    "from sklearn.preprocessing import StandardScaler\n",
    "# recup les valeurs des 'features'\n",
    "x = datamulti.loc[:, utiles].values\n",
    "# normaliser\n",
    "x = StandardScaler().fit_transform(x)"
   ]
  },
  {
   "cell_type": "code",
   "execution_count": 40,
   "id": "10837300-45fb-4bf7-a79f-c614b6038e36",
   "metadata": {},
   "outputs": [
    {
     "data": {
      "text/plain": [
       "array([[ 0.51752778,  0.05556146, -0.41388102, ..., -0.2550872 ,\n",
       "        -0.11389711, -0.13380957],\n",
       "       [-0.28975058,  0.40357343, -0.34522218, ..., -0.2550872 ,\n",
       "        -0.38601555, -0.13380957],\n",
       "       [-1.37122301, -0.67029209, -0.81439088, ..., -0.2550872 ,\n",
       "        -0.87986011, -0.13380957],\n",
       "       ...,\n",
       "       [ 0.29307123, -0.17313212,  0.34136616, ..., -0.2550872 ,\n",
       "        -0.15421095, -0.13380957],\n",
       "       [-0.78457523, -0.69017849, -0.52831241, ..., -0.2550872 ,\n",
       "         1.26685199, -0.13380957],\n",
       "       [-1.48345128, -0.30239372, -0.80294774, ..., -0.2550872 ,\n",
       "        -0.3457017 , -0.13380957]])"
      ]
     },
     "execution_count": 40,
     "metadata": {},
     "output_type": "execute_result"
    }
   ],
   "source": [
    "x"
   ]
  },
  {
   "cell_type": "code",
   "execution_count": 41,
   "id": "bb7e14a3-c298-49c0-8e81-d3b8f4eea019",
   "metadata": {},
   "outputs": [
    {
     "data": {
      "text/plain": [
       "PCA(n_components=8)"
      ]
     },
     "execution_count": 41,
     "metadata": {},
     "output_type": "execute_result"
    }
   ],
   "source": [
    "from sklearn.decomposition import PCA\n",
    "pca = PCA(n_components=8)\n",
    "pca.fit(x)"
   ]
  },
  {
   "cell_type": "code",
   "execution_count": 42,
   "id": "de0f3c89-329a-4ef5-8dea-c0242d3c82e6",
   "metadata": {},
   "outputs": [
    {
     "data": {
      "text/plain": [
       "array([0.30132881, 0.1718624 , 0.13100181, 0.12036854, 0.11640296,\n",
       "       0.09331013, 0.04920621, 0.01651914])"
      ]
     },
     "execution_count": 42,
     "metadata": {},
     "output_type": "execute_result"
    }
   ],
   "source": [
    "pca.explained_variance_ratio_"
   ]
  },
  {
   "cell_type": "code",
   "execution_count": 43,
   "id": "c70a7c95-2631-44c0-940a-71e64c2e6695",
   "metadata": {},
   "outputs": [
    {
     "data": {
      "text/plain": [
       "array([[ 0.5676284 ,  0.06399387,  0.58796264,  0.54161061, -0.01531446,\n",
       "         0.02118499,  0.16175797, -0.08838377],\n",
       "       [-0.16376573, -0.68978592,  0.04055325,  0.00776866,  0.32731702,\n",
       "        -0.01139493,  0.57403472, -0.24267079],\n",
       "       [ 0.07544739, -0.0700624 , -0.02206025, -0.0818842 , -0.1528613 ,\n",
       "         0.85201748,  0.22464435,  0.42713211],\n",
       "       [ 0.00338258,  0.04512003,  0.07375948,  0.07576042,  0.76077064,\n",
       "        -0.12457585, -0.12807011,  0.61325327],\n",
       "       [ 0.10647323,  0.32351845, -0.10315141, -0.10075114,  0.53834371,\n",
       "         0.43785735, -0.12616155, -0.60477972],\n",
       "       [-0.20216684, -0.52082598,  0.25330335,  0.19035521, -0.02289095,\n",
       "         0.23211604, -0.72450996, -0.09030306],\n",
       "       [-0.48297282,  0.20273758, -0.3107315 ,  0.77760226, -0.0095551 ,\n",
       "         0.10008243,  0.11879824, -0.01394907],\n",
       "       [-0.5998369 ,  0.31004709,  0.68947182, -0.20760965, -0.00782548,\n",
       "         0.04852857,  0.15002338, -0.0258856 ]])"
      ]
     },
     "execution_count": 43,
     "metadata": {},
     "output_type": "execute_result"
    }
   ],
   "source": [
    "pca.components_"
   ]
  },
  {
   "cell_type": "code",
   "execution_count": 44,
   "id": "032b9f2a-d963-4ec7-80b2-323bde95e36a",
   "metadata": {},
   "outputs": [
    {
     "data": {
      "image/png": "[encoded data removed]",
      "text/plain": [
       "<Figure size 432x288 with 1 Axes>"
      ]
     },
     "metadata": {
      "needs_background": "light"
     },
     "output_type": "display_data"
    }
   ],
   "source": [
    "ax = sns.barplot(x = ['PC1', 'PC2', 'PC3', 'PC4', 'PC5', 'PC6', 'PC7', 'PC8'], y=100*pca.explained_variance_ratio_)\n",
    "ax.set_title(\"Ratios d'explication de la variance selon composantes les principales\", y=1.05)\n",
    "ax.set_ylabel('en %');"
   ]
  },
  {
   "cell_type": "code",
   "execution_count": 45,
   "id": "42a3c527-4ec4-4c49-8933-d9ffe4fb86ee",
   "metadata": {},
   "outputs": [
    {
     "data": {
      "image/png": "[encoded data removed]",
      "text/plain": [
       "<Figure size 432x288 with 1 Axes>"
      ]
     },
     "metadata": {},
     "output_type": "display_data"
    }
   ],
   "source": [
    "ax = plt.pie(pca.explained_variance_ratio_, explode = (0.05,0.05,0.05,0.05,0.05,0.05,0.05,0.05), autopct = '%.2f%%', pctdistance = 1.25)\n",
    "plt.title(\"Ratios d'explication de la variance selon les composantes principales\")\n",
    "plt.legend(['PC1', 'PC2', 'PC3', 'PC4', 'PC5', 'PC6', 'PC7', 'PC8'], bbox_to_anchor=(1.5, 0.8));"
   ]
  },
  {
   "cell_type": "code",
   "execution_count": 46,
   "id": "ca14b201-9c5c-4424-82d0-dc8e45077f78",
   "metadata": {},
   "outputs": [
    {
     "data": {
      "image/png": "[encoded data removed]",
      "text/plain": [
       "<Figure size 1440x1440 with 8 Axes>"
      ]
     },
     "metadata": {
      "needs_background": "light"
     },
     "output_type": "display_data"
    }
   ],
   "source": [
    "fig = plt.figure(figsize=(20,20))\n",
    "for i,j in enumerate(['PC1', 'PC2', 'PC3', 'PC4', 'PC5', 'PC6', 'PC7', 'PC8']):\n",
    "    plt.subplot(4,2,i+1)\n",
    "    ax = sns.barplot(x=datamulti.columns[2:], y = pca.components_[i])\n",
    "    plt.xticks(rotation = 30)\n",
    "    ax.set_title(j)\n",
    "plt.gcf().subplots_adjust( wspace = 0.3, hspace = 0.5)\n",
    "plt.suptitle(\"Features des composantes principales (PC)\", y = 0.92);\n",
    "    "
   ]
  },
  {
   "cell_type": "code",
   "execution_count": 47,
   "id": "94512280-02c6-4155-8b03-526f77090f0a",
   "metadata": {},
   "outputs": [
    {
     "data": {
      "text/plain": [
       "PCA(n_components=5)"
      ]
     },
     "execution_count": 47,
     "metadata": {},
     "output_type": "execute_result"
    }
   ],
   "source": [
    "#6 PC expliquent 93.5% de la variance on peut reduire à 6 PC sans trop perdre d'information (5 pour 84%)\n",
    "\n",
    "pca5 = PCA(n_components=5)\n",
    "pca5.fit(x)"
   ]
  },
  {
   "cell_type": "markdown",
   "id": "8d2e2d27-2857-411d-b247-5c7ce353f0ed",
   "metadata": {},
   "source": [
    "## ANOVA"
   ]
  },
  {
   "cell_type": "code",
   "execution_count": 48,
   "id": "2dac4f01-8834-438b-99fc-95a8ff6b1e0b",
   "metadata": {},
   "outputs": [
    {
     "data": {
      "text/html": [
       "<div>\n",
       "<style scoped>\n",
       "    .dataframe tbody tr th:only-of-type {\n",
       "        vertical-align: middle;\n",
       "    }\n",
       "\n",
       "    .dataframe tbody tr th {\n",
       "        vertical-align: top;\n",
       "    }\n",
       "\n",
       "    .dataframe thead th {\n",
       "        text-align: right;\n",
       "    }\n",
       "</style>\n",
       "<table border=\"1\" class=\"dataframe\">\n",
       "  <thead>\n",
       "    <tr style=\"text-align: right;\">\n",
       "      <th></th>\n",
       "      <th>nutriscore_grade</th>\n",
       "      <th>pnns_group</th>\n",
       "      <th>energy_kj</th>\n",
       "      <th>sugars</th>\n",
       "      <th>fat</th>\n",
       "      <th>saturated_fat</th>\n",
       "      <th>sodium</th>\n",
       "      <th>fiber</th>\n",
       "      <th>proteins</th>\n",
       "      <th>fruits_vegetables</th>\n",
       "    </tr>\n",
       "  </thead>\n",
       "  <tbody>\n",
       "    <tr>\n",
       "      <th>0</th>\n",
       "      <td>unknown</td>\n",
       "      <td>unknown</td>\n",
       "      <td>1569.0</td>\n",
       "      <td>15.0</td>\n",
       "      <td>7.0</td>\n",
       "      <td>3.08</td>\n",
       "      <td>0.560</td>\n",
       "      <td>0.0</td>\n",
       "      <td>7.8</td>\n",
       "      <td>0.0</td>\n",
       "    </tr>\n",
       "    <tr>\n",
       "      <th>2</th>\n",
       "      <td>d</td>\n",
       "      <td>dressings and sauces</td>\n",
       "      <td>936.0</td>\n",
       "      <td>22.0</td>\n",
       "      <td>8.2</td>\n",
       "      <td>2.20</td>\n",
       "      <td>1.840</td>\n",
       "      <td>0.0</td>\n",
       "      <td>5.1</td>\n",
       "      <td>0.0</td>\n",
       "    </tr>\n",
       "    <tr>\n",
       "      <th>4</th>\n",
       "      <td>unknown</td>\n",
       "      <td>unknown</td>\n",
       "      <td>88.0</td>\n",
       "      <td>0.4</td>\n",
       "      <td>0.0</td>\n",
       "      <td>0.00</td>\n",
       "      <td>0.816</td>\n",
       "      <td>0.0</td>\n",
       "      <td>0.2</td>\n",
       "      <td>0.0</td>\n",
       "    </tr>\n",
       "    <tr>\n",
       "      <th>5</th>\n",
       "      <td>unknown</td>\n",
       "      <td>unknown</td>\n",
       "      <td>251.0</td>\n",
       "      <td>3.0</td>\n",
       "      <td>3.0</td>\n",
       "      <td>1.00</td>\n",
       "      <td>0.460</td>\n",
       "      <td>0.0</td>\n",
       "      <td>2.0</td>\n",
       "      <td>0.0</td>\n",
       "    </tr>\n",
       "    <tr>\n",
       "      <th>11</th>\n",
       "      <td>unknown</td>\n",
       "      <td>unknown</td>\n",
       "      <td>264.0</td>\n",
       "      <td>15.5</td>\n",
       "      <td>0.0</td>\n",
       "      <td>0.00</td>\n",
       "      <td>0.000</td>\n",
       "      <td>0.0</td>\n",
       "      <td>0.2</td>\n",
       "      <td>0.0</td>\n",
       "    </tr>\n",
       "  </tbody>\n",
       "</table>\n",
       "</div>"
      ],
      "text/plain": [
       "   nutriscore_grade            pnns_group  energy_kj  sugars  fat  \\\n",
       "0           unknown               unknown     1569.0    15.0  7.0   \n",
       "2                 d  dressings and sauces      936.0    22.0  8.2   \n",
       "4           unknown               unknown       88.0     0.4  0.0   \n",
       "5           unknown               unknown      251.0     3.0  3.0   \n",
       "11          unknown               unknown      264.0    15.5  0.0   \n",
       "\n",
       "    saturated_fat  sodium  fiber  proteins  fruits_vegetables  \n",
       "0            3.08   0.560    0.0       7.8                0.0  \n",
       "2            2.20   1.840    0.0       5.1                0.0  \n",
       "4            0.00   0.816    0.0       0.2                0.0  \n",
       "5            1.00   0.460    0.0       2.0                0.0  \n",
       "11           0.00   0.000    0.0       0.2                0.0  "
      ]
     },
     "execution_count": 48,
     "metadata": {},
     "output_type": "execute_result"
    }
   ],
   "source": [
    "datamulti.head()"
   ]
  },
  {
   "cell_type": "code",
   "execution_count": 49,
   "id": "5b6c393c-e542-4de5-bf70-8074ef9dc9f4",
   "metadata": {},
   "outputs": [
    {
     "data": {
      "text/plain": [
       "['energy_kj',\n",
       " 'sugars',\n",
       " 'fat',\n",
       " 'saturated_fat',\n",
       " 'sodium',\n",
       " 'fiber',\n",
       " 'proteins',\n",
       " 'fruits_vegetables']"
      ]
     },
     "execution_count": 49,
     "metadata": {},
     "output_type": "execute_result"
    }
   ],
   "source": [
    "utiles"
   ]
  },
  {
   "cell_type": "code",
   "execution_count": 50,
   "id": "2c312f80-a808-4169-b27f-051c42f32a6b",
   "metadata": {
    "tags": []
   },
   "outputs": [],
   "source": [
    "# def f(showflier):\n",
    "#     fig= plt.figure(figsize=(20,10))\n",
    "#     ax = sns.boxplot(data = dataclean3, x= 'target', y='nutriscore', showfliers = showflier);"
   ]
  },
  {
   "cell_type": "code",
   "execution_count": 51,
   "id": "73b34f7b",
   "metadata": {
    "tags": []
   },
   "outputs": [],
   "source": [
    "# distribution au sein des groupes\n",
    "# fig = plt.figure(figsize=(20,50))\n",
    "# for i,j in enumerate(datacleananova.pnns_group.unique()):\n",
    "#     fig.add_subplot(10,4,i+1)\n",
    "#     ax = sns.histplot(datacleananova[datacleananova.pnns_group ==j], x = 'nutriscore', kde = True, bins = 30)\n",
    "#     ax.set_title(j)"
   ]
  },
  {
   "cell_type": "code",
   "execution_count": 52,
   "id": "9d7f6280-ae65-47a1-8a58-670481789b29",
   "metadata": {},
   "outputs": [],
   "source": [
    "groups = ['nutriscore_grade', 'pnns_group']"
   ]
  },
  {
   "cell_type": "code",
   "execution_count": 53,
   "id": "2aaf4437-4284-4243-b900-46396682eacc",
   "metadata": {},
   "outputs": [
    {
     "data": {
      "text/plain": [
       "(273279, 10)"
      ]
     },
     "execution_count": 53,
     "metadata": {},
     "output_type": "execute_result"
    }
   ],
   "source": [
    "datamulti[datamulti['nutriscore_grade'] != 'unknown'].shape"
   ]
  },
  {
   "cell_type": "code",
   "execution_count": 54,
   "id": "4d68fdff-46bf-4142-b5c1-8805563d5875",
   "metadata": {},
   "outputs": [
    {
     "data": {
      "text/plain": [
       "(267457, 10)"
      ]
     },
     "execution_count": 54,
     "metadata": {},
     "output_type": "execute_result"
    }
   ],
   "source": [
    "datamulti[datamulti['pnns_group'] != 'unknown'].shape"
   ]
  },
  {
   "cell_type": "code",
   "execution_count": 55,
   "id": "0d7fe2c6",
   "metadata": {},
   "outputs": [],
   "source": [
    "#on se limitera au data avec nutriscore != unknwon (pareil pour pnns_group)\n",
    "\n",
    "def boxplot(group, variable, outlier):\n",
    "    data = datamulti[datamulti[group] != 'unknown']\n",
    "    order = sorted(data[group].unique())\n",
    "    fig= plt.figure(figsize=(20,10))\n",
    "    ax = sns.boxplot(data = data, x= group, y=variable, showfliers = outlier, order= order)\n",
    "    if group == 'pnns_group':\n",
    "        plt.xticks(rotation = 90);\n",
    "    ax.set_title(\"Repartition des valeurs de \"+variable+\" selon les groupes formés par \"+group, y= 1.03, fontsize = 14)"
   ]
  },
  {
   "cell_type": "code",
   "execution_count": 56,
   "id": "44ea1b40-67db-4882-9115-a8d5af687665",
   "metadata": {
    "tags": []
   },
   "outputs": [
    {
     "data": {
      "application/vnd.jupyter.widget-view+json": {
       "model_id": "be3a2caf4c934018b06d0c849d451872",
       "version_major": 2,
       "version_minor": 0
      },
      "text/plain": [
       "interactive(children=(Dropdown(description='group', options=('nutriscore_grade', 'pnns_group'), value='nutrisc…"
      ]
     },
     "metadata": {},
     "output_type": "display_data"
    },
    {
     "data": {
      "image/png": "[encoded data removed]",
      "text/plain": [
       "<Figure size 1440x720 with 1 Axes>"
      ]
     },
     "metadata": {
      "needs_background": "light"
     },
     "output_type": "display_data"
    }
   ],
   "source": [
    "#choisir types de group ( par nutriscore ou pnns)\n",
    "#choisir la variable a observer\n",
    "#affichage des outliers\n",
    "interact(boxplot, group = groups, variable = utiles, outlier = [True, False]);"
   ]
  },
  {
   "cell_type": "code",
   "execution_count": 57,
   "id": "d1592006-d41e-4712-ae6a-b05ad6f49a63",
   "metadata": {},
   "outputs": [],
   "source": [
    "#distribution au sein des groupes\n",
    "def distrib(group, variable):\n",
    "    listegroupes= sorted(datamulti[datamulti[group] != 'unknown'][group].unique())\n",
    "    lignesfig = len(listegroupes)//4+1\n",
    "    fig = plt.figure(figsize=(23,5*lignesfig))\n",
    "    for i,j in enumerate(listegroupes):\n",
    "        fig.add_subplot(lignesfig,4,i+1)\n",
    "        ax = sns.histplot(datamulti[datamulti[group] == j], x = variable, bins = 30)\n",
    "        ax.set_title(j)\n",
    "        ax.set_xlabel(unités[variable], labelpad = 10)\n",
    "    plt.suptitle(\"distribution de \"+variable+ \" en fonction des groupes formés par \"+group, fontsize = 14)\n",
    "    plt.gcf().subplots_adjust( wspace = 0.3, hspace = 0.3)"
   ]
  },
  {
   "cell_type": "code",
   "execution_count": 58,
   "id": "9d0b696f-0efc-468c-b06a-65c04c4cb1d5",
   "metadata": {},
   "outputs": [
    {
     "data": {
      "application/vnd.jupyter.widget-view+json": {
       "model_id": "6c87bf7d9bec41e59e402a9f30de9553",
       "version_major": 2,
       "version_minor": 0
      },
      "text/plain": [
       "interactive(children=(Dropdown(description='group', options=('nutriscore_grade', 'pnns_group'), value='nutrisc…"
      ]
     },
     "metadata": {},
     "output_type": "display_data"
    },
    {
     "data": {
      "image/png": "[encoded data removed]",
      "text/plain": [
       "<Figure size 1656x720 with 5 Axes>"
      ]
     },
     "metadata": {
      "needs_background": "light"
     },
     "output_type": "display_data"
    }
   ],
   "source": [
    "#choisir group et variable\n",
    "interact(distrib, group = groups, variable = utiles);"
   ]
  },
  {
   "cell_type": "code",
   "execution_count": 61,
   "id": "c53f2192-fb2e-4520-8ea1-42c3c70ed80b",
   "metadata": {},
   "outputs": [],
   "source": [
    "#http://www.pybloggers.com/2016/02/four-ways-to-conduct-one-way-anovas-with-python/\n",
    "\n",
    "import statsmodels.api as sm\n",
    "from statsmodels.formula.api import ols\n",
    "\n",
    "def anova(group,variable):\n",
    "    fit = ols(variable+' ~ '+group,\n",
    "                    data=datamulti[datamulti[group] != 'unknown']).fit()\n",
    "\n",
    "    aov_table = sm.stats.anova_lm(fit)\n",
    "    \n",
    "    esq_sm = aov_table['sum_sq'][0]/(aov_table['sum_sq'][0]+aov_table['sum_sq'][1]) #effect size\n",
    "    \n",
    "    print (aov_table)\n",
    "    print('esqm = ', esq_sm)"
   ]
  },
  {
   "cell_type": "code",
   "execution_count": 62,
   "id": "6cd27d2f-b9e0-448a-a995-a2c6df39e169",
   "metadata": {},
   "outputs": [
    {
     "data": {
      "application/vnd.jupyter.widget-view+json": {
       "model_id": "74b9135c8d5f40bb926f5d502719d780",
       "version_major": 2,
       "version_minor": 0
      },
      "text/plain": [
       "interactive(children=(Dropdown(description='group', options=('nutriscore_grade', 'pnns_group'), value='nutrisc…"
      ]
     },
     "metadata": {},
     "output_type": "display_data"
    }
   ],
   "source": [
    "interact(anova, variable = utiles, group = groups);"
   ]
  },
  {
   "cell_type": "code",
   "execution_count": 63,
   "id": "cd06c79c-c5b8-4285-a356-8d51369c7832",
   "metadata": {},
   "outputs": [
    {
     "name": "stdout",
     "output_type": "stream",
     "text": [
      "\n",
      "ANOVA pour la variable energy_kj selon le groupe nutriscore_grade\n",
      "                        df        sum_sq       mean_sq             F  PR(>F)\n",
      "nutriscore_grade       4.0  3.746597e+10  9.366494e+09  18903.938016     0.0\n",
      "Residual          273274.0  1.354014e+11  4.954784e+05           NaN     NaN\n",
      "esqm =  0.21673251110295927\n",
      "\n",
      "ANOVA pour la variable sugars selon le groupe nutriscore_grade\n",
      "                        df        sum_sq       mean_sq            F  PR(>F)\n",
      "nutriscore_grade       4.0  1.089034e+07  2.722584e+06  8899.423869     0.0\n",
      "Residual          273274.0  8.360222e+07  3.059282e+02          NaN     NaN\n",
      "esqm =  0.11525075297897766\n",
      "\n",
      "ANOVA pour la variable fat selon le groupe nutriscore_grade\n",
      "                        df        sum_sq       mean_sq             F  PR(>F)\n",
      "nutriscore_grade       4.0  1.669403e+07  4.173508e+06  14302.126334     0.0\n",
      "Residual          273274.0  7.974418e+07  2.918103e+02           NaN     NaN\n",
      "esqm =  0.1731060023240297\n",
      "\n",
      "ANOVA pour la variable saturated_fat selon le groupe nutriscore_grade\n",
      "                        df        sum_sq       mean_sq             F  PR(>F)\n",
      "nutriscore_grade       4.0  5.609090e+06  1.402272e+06  26328.751007     0.0\n",
      "Residual          273274.0  1.455461e+07  5.326012e+01           NaN     NaN\n",
      "esqm =  0.27817766207337036\n",
      "\n",
      "ANOVA pour la variable sodium selon le groupe nutriscore_grade\n",
      "                        df         sum_sq      mean_sq            F  PR(>F)\n",
      "nutriscore_grade       4.0    7803.129706  1950.782426  2162.920628     0.0\n",
      "Residual          273274.0  246471.419208     0.901920          NaN     NaN\n",
      "esqm =  0.030687812599516084\n",
      "\n",
      "ANOVA pour la variable fiber selon le groupe nutriscore_grade\n",
      "                        df        sum_sq       mean_sq            F  PR(>F)\n",
      "nutriscore_grade       4.0  1.445953e+05  36148.834881  4360.601098     0.0\n",
      "Residual          273274.0  2.265407e+06      8.289874          NaN     NaN\n",
      "esqm =  0.059998005365398434\n",
      "\n",
      "ANOVA pour la variable proteins selon le groupe nutriscore_grade\n",
      "                        df        sum_sq        mean_sq          F  PR(>F)\n",
      "nutriscore_grade       4.0  5.443569e+05  136089.219827  1720.3572     0.0\n",
      "Residual          273274.0  2.161740e+07      79.105211        NaN     NaN\n",
      "esqm =  0.024562896496843793\n",
      "\n",
      "ANOVA pour la variable fruits_vegetables selon le groupe nutriscore_grade\n",
      "                        df        sum_sq       mean_sq           F  PR(>F)\n",
      "nutriscore_grade       4.0  3.998377e+05  99959.433566  646.062557     0.0\n",
      "Residual          273274.0  4.228122e+07    154.720983         NaN     NaN\n",
      "esqm =  0.009368036755769464\n",
      "\n",
      "ANOVA pour la variable energy_kj selon le groupe pnns_group\n",
      "                  df        sum_sq       mean_sq            F  PR(>F)\n",
      "pnns_group      39.0  1.117073e+11  2.864291e+09  12510.94066     0.0\n",
      "Residual    267417.0  6.122322e+10  2.289429e+05          NaN     NaN\n",
      "esqm =  0.6459664586562677\n",
      "\n",
      "ANOVA pour la variable sugars selon le groupe pnns_group\n",
      "                  df        sum_sq       mean_sq             F  PR(>F)\n",
      "pnns_group      39.0  6.653283e+07  1.705970e+06  13397.902553     0.0\n",
      "Residual    267417.0  3.405051e+07  1.273311e+02           NaN     NaN\n",
      "esqm =  0.6614697001212846\n",
      "\n",
      "ANOVA pour la variable fat selon le groupe pnns_group\n",
      "                  df        sum_sq       mean_sq             F  PR(>F)\n",
      "pnns_group      39.0  6.454504e+07  1.655001e+06  12888.361615     0.0\n",
      "Residual    267417.0  3.433915e+07  1.284105e+02           NaN     NaN\n",
      "esqm =  0.652733653947874\n",
      "\n",
      "ANOVA pour la variable saturated_fat selon le groupe pnns_group\n",
      "                  df        sum_sq        mean_sq           F  PR(>F)\n",
      "pnns_group      39.0  1.008094e+07  258485.573773  6738.66239     0.0\n",
      "Residual    267417.0  1.025774e+07      38.358588         NaN     NaN\n",
      "esqm =  0.4956535732537263\n",
      "\n",
      "ANOVA pour la variable sodium selon le groupe pnns_group\n",
      "                  df         sum_sq     mean_sq           F  PR(>F)\n",
      "pnns_group      39.0   28959.056500  742.539910  1379.02994     0.0\n",
      "Residual    267417.0  143990.923935    0.538451         NaN     NaN\n",
      "esqm =  0.1674418026928303\n",
      "\n",
      "ANOVA pour la variable fiber selon le groupe pnns_group\n",
      "                  df        sum_sq      mean_sq            F  PR(>F)\n",
      "pnns_group      39.0  3.170588e+05  8129.713156  1213.271201     0.0\n",
      "Residual    267417.0  1.791869e+06     6.700656          NaN     NaN\n",
      "esqm =  0.1503412090959915\n",
      "\n",
      "ANOVA pour la variable proteins selon le groupe pnns_group\n",
      "                  df        sum_sq        mean_sq             F  PR(>F)\n",
      "pnns_group      39.0  1.235873e+07  316890.610329  12368.121926     0.0\n",
      "Residual    267417.0  6.851641e+06      25.621563           NaN     NaN\n",
      "esqm =  0.6433364089089949\n",
      "\n",
      "ANOVA pour la variable fruits_vegetables selon le groupe pnns_group\n",
      "                  df        sum_sq       mean_sq           F  PR(>F)\n",
      "pnns_group      39.0  3.203986e+06  82153.479316  543.917673     0.0\n",
      "Residual    267417.0  4.039074e+07    151.040283         NaN     NaN\n",
      "esqm =  0.07349480212887946\n"
     ]
    }
   ],
   "source": [
    "for i in groups:\n",
    "    for j in utiles:\n",
    "        print ('\\nANOVA pour la variable {} selon le groupe {}'.format(j,i))\n",
    "        anova(i,j)"
   ]
  },
  {
   "cell_type": "markdown",
   "id": "b8da92fc-d523-4026-af90-c50f01256a8c",
   "metadata": {},
   "source": [
    "## MRL ??"
   ]
  },
  {
   "cell_type": "code",
   "execution_count": 64,
   "id": "ad186886-8425-492d-9578-e82e4fa218f9",
   "metadata": {},
   "outputs": [],
   "source": [
    "#utiliser resultats pca ?"
   ]
  },
  {
   "cell_type": "code",
   "execution_count": 65,
   "id": "5aea19c3-e8f8-4b33-b175-85f04ee7e419",
   "metadata": {},
   "outputs": [],
   "source": [
    "#utiliser dataframe avec nutriscore\n",
    "datacleanMLR = dataremplicorr[dataremplicorr.nutriscore.notna()].copy()"
   ]
  },
  {
   "cell_type": "code",
   "execution_count": 66,
   "id": "2168fca0-f50d-416f-8340-0fa7e1056511",
   "metadata": {},
   "outputs": [],
   "source": [
    "#données completes remplacer nan par 0\n",
    "datacleanMLR.fillna(0, inplace = True)"
   ]
  },
  {
   "cell_type": "code",
   "execution_count": 67,
   "id": "f830a014-2eec-4fda-8b49-8e561b73795f",
   "metadata": {},
   "outputs": [
    {
     "name": "stderr",
     "output_type": "stream",
     "text": [
      "C:\\ProgramData\\Anaconda3\\lib\\site-packages\\statsmodels\\tsa\\tsatools.py:142: FutureWarning: In a future version of pandas all arguments of concat except for the argument 'objs' will be keyword-only\n",
      "  x = pd.concat(x[::order], 1)\n"
     ]
    }
   ],
   "source": [
    "X = datacleanMLR.drop('nutriscore',axis = 1)\n",
    "X = sm.add_constant(X)"
   ]
  },
  {
   "cell_type": "code",
   "execution_count": 68,
   "id": "b295e6f9-eeda-4c48-b7bb-d5a0f25e22de",
   "metadata": {},
   "outputs": [],
   "source": [
    "Y = datacleanMLR['nutriscore']"
   ]
  },
  {
   "cell_type": "code",
   "execution_count": 69,
   "id": "f8fde9d7-ae64-4c74-8a83-2d5e6934ee2c",
   "metadata": {},
   "outputs": [],
   "source": [
    "from sklearn.model_selection import train_test_split"
   ]
  },
  {
   "cell_type": "code",
   "execution_count": 70,
   "id": "035babf8-9ee1-4de7-a72d-0e8bd767d241",
   "metadata": {},
   "outputs": [],
   "source": [
    "X_train, X_test, Y_train, Y_test = train_test_split(X, Y, train_size = 0.8)"
   ]
  },
  {
   "cell_type": "code",
   "execution_count": 71,
   "id": "d71fcbcd-8928-4fe4-b4af-237011040db2",
   "metadata": {},
   "outputs": [],
   "source": [
    "model = sm.OLS(Y_train,X_train)\n",
    "results= model.fit()"
   ]
  },
  {
   "cell_type": "code",
   "execution_count": 72,
   "id": "d23ca9b0-9c15-40c8-ae95-62b484d68892",
   "metadata": {},
   "outputs": [
    {
     "data": {
      "text/html": [
       "<table class=\"simpletable\">\n",
       "<caption>OLS Regression Results</caption>\n",
       "<tr>\n",
       "  <th>Dep. Variable:</th>       <td>nutriscore</td>    <th>  R-squared:         </th>  <td>   0.599</td>  \n",
       "</tr>\n",
       "<tr>\n",
       "  <th>Model:</th>                   <td>OLS</td>       <th>  Adj. R-squared:    </th>  <td>   0.599</td>  \n",
       "</tr>\n",
       "<tr>\n",
       "  <th>Method:</th>             <td>Least Squares</td>  <th>  F-statistic:       </th>  <td>4.109e+04</td> \n",
       "</tr>\n",
       "<tr>\n",
       "  <th>Date:</th>             <td>Sat, 11 Sep 2021</td> <th>  Prob (F-statistic):</th>   <td>  0.00</td>   \n",
       "</tr>\n",
       "<tr>\n",
       "  <th>Time:</th>                 <td>01:50:20</td>     <th>  Log-Likelihood:    </th> <td>-6.8938e+05</td>\n",
       "</tr>\n",
       "<tr>\n",
       "  <th>No. Observations:</th>      <td>219973</td>      <th>  AIC:               </th>  <td>1.379e+06</td> \n",
       "</tr>\n",
       "<tr>\n",
       "  <th>Df Residuals:</th>          <td>219964</td>      <th>  BIC:               </th>  <td>1.379e+06</td> \n",
       "</tr>\n",
       "<tr>\n",
       "  <th>Df Model:</th>              <td>     8</td>      <th>                     </th>      <td> </td>     \n",
       "</tr>\n",
       "<tr>\n",
       "  <th>Covariance Type:</th>      <td>nonrobust</td>    <th>                     </th>      <td> </td>     \n",
       "</tr>\n",
       "</table>\n",
       "<table class=\"simpletable\">\n",
       "<tr>\n",
       "          <td></td>             <th>coef</th>     <th>std err</th>      <th>t</th>      <th>P>|t|</th>  <th>[0.025</th>    <th>0.975]</th>  \n",
       "</tr>\n",
       "<tr>\n",
       "  <th>const</th>             <td>    1.2316</td> <td>    0.025</td> <td>   48.849</td> <td> 0.000</td> <td>    1.182</td> <td>    1.281</td>\n",
       "</tr>\n",
       "<tr>\n",
       "  <th>energy_kj</th>         <td>    0.0021</td> <td> 3.26e-05</td> <td>   65.295</td> <td> 0.000</td> <td>    0.002</td> <td>    0.002</td>\n",
       "</tr>\n",
       "<tr>\n",
       "  <th>sugars</th>            <td>    0.1897</td> <td>    0.001</td> <td>  218.827</td> <td> 0.000</td> <td>    0.188</td> <td>    0.191</td>\n",
       "</tr>\n",
       "<tr>\n",
       "  <th>fat</th>               <td>    0.0287</td> <td>    0.001</td> <td>   19.655</td> <td> 0.000</td> <td>    0.026</td> <td>    0.032</td>\n",
       "</tr>\n",
       "<tr>\n",
       "  <th>saturated_fat</th>     <td>    0.3949</td> <td>    0.002</td> <td>  199.930</td> <td> 0.000</td> <td>    0.391</td> <td>    0.399</td>\n",
       "</tr>\n",
       "<tr>\n",
       "  <th>sodium</th>            <td>    1.9386</td> <td>    0.013</td> <td>  153.713</td> <td> 0.000</td> <td>    1.914</td> <td>    1.963</td>\n",
       "</tr>\n",
       "<tr>\n",
       "  <th>fiber</th>             <td>   -0.5761</td> <td>    0.004</td> <td> -139.276</td> <td> 0.000</td> <td>   -0.584</td> <td>   -0.568</td>\n",
       "</tr>\n",
       "<tr>\n",
       "  <th>proteins</th>          <td>    0.0630</td> <td>    0.002</td> <td>   41.987</td> <td> 0.000</td> <td>    0.060</td> <td>    0.066</td>\n",
       "</tr>\n",
       "<tr>\n",
       "  <th>fruits_vegetables</th> <td>   -0.0378</td> <td>    0.001</td> <td>  -38.736</td> <td> 0.000</td> <td>   -0.040</td> <td>   -0.036</td>\n",
       "</tr>\n",
       "</table>\n",
       "<table class=\"simpletable\">\n",
       "<tr>\n",
       "  <th>Omnibus:</th>       <td>34720.019</td> <th>  Durbin-Watson:     </th>  <td>   2.002</td> \n",
       "</tr>\n",
       "<tr>\n",
       "  <th>Prob(Omnibus):</th>  <td> 0.000</td>   <th>  Jarque-Bera (JB):  </th> <td>322803.936</td>\n",
       "</tr>\n",
       "<tr>\n",
       "  <th>Skew:</th>           <td>-0.480</td>   <th>  Prob(JB):          </th>  <td>    0.00</td> \n",
       "</tr>\n",
       "<tr>\n",
       "  <th>Kurtosis:</th>       <td> 8.856</td>   <th>  Cond. No.          </th>  <td>3.03e+03</td> \n",
       "</tr>\n",
       "</table><br/><br/>Notes:<br/>[1] Standard Errors assume that the covariance matrix of the errors is correctly specified.<br/>[2] The condition number is large, 3.03e+03. This might indicate that there are<br/>strong multicollinearity or other numerical problems."
      ],
      "text/plain": [
       "<class 'statsmodels.iolib.summary.Summary'>\n",
       "\"\"\"\n",
       "                            OLS Regression Results                            \n",
       "==============================================================================\n",
       "Dep. Variable:             nutriscore   R-squared:                       0.599\n",
       "Model:                            OLS   Adj. R-squared:                  0.599\n",
       "Method:                 Least Squares   F-statistic:                 4.109e+04\n",
       "Date:                Sat, 11 Sep 2021   Prob (F-statistic):               0.00\n",
       "Time:                        01:50:20   Log-Likelihood:            -6.8938e+05\n",
       "No. Observations:              219973   AIC:                         1.379e+06\n",
       "Df Residuals:                  219964   BIC:                         1.379e+06\n",
       "Df Model:                           8                                         \n",
       "Covariance Type:            nonrobust                                         \n",
       "=====================================================================================\n",
       "                        coef    std err          t      P>|t|      [0.025      0.975]\n",
       "-------------------------------------------------------------------------------------\n",
       "const                 1.2316      0.025     48.849      0.000       1.182       1.281\n",
       "energy_kj             0.0021   3.26e-05     65.295      0.000       0.002       0.002\n",
       "sugars                0.1897      0.001    218.827      0.000       0.188       0.191\n",
       "fat                   0.0287      0.001     19.655      0.000       0.026       0.032\n",
       "saturated_fat         0.3949      0.002    199.930      0.000       0.391       0.399\n",
       "sodium                1.9386      0.013    153.713      0.000       1.914       1.963\n",
       "fiber                -0.5761      0.004   -139.276      0.000      -0.584      -0.568\n",
       "proteins              0.0630      0.002     41.987      0.000       0.060       0.066\n",
       "fruits_vegetables    -0.0378      0.001    -38.736      0.000      -0.040      -0.036\n",
       "==============================================================================\n",
       "Omnibus:                    34720.019   Durbin-Watson:                   2.002\n",
       "Prob(Omnibus):                  0.000   Jarque-Bera (JB):           322803.936\n",
       "Skew:                          -0.480   Prob(JB):                         0.00\n",
       "Kurtosis:                       8.856   Cond. No.                     3.03e+03\n",
       "==============================================================================\n",
       "\n",
       "Notes:\n",
       "[1] Standard Errors assume that the covariance matrix of the errors is correctly specified.\n",
       "[2] The condition number is large, 3.03e+03. This might indicate that there are\n",
       "strong multicollinearity or other numerical problems.\n",
       "\"\"\""
      ]
     },
     "execution_count": 72,
     "metadata": {},
     "output_type": "execute_result"
    }
   ],
   "source": [
    "results.summary()\n",
    "#resultats pas fousfous"
   ]
  },
  {
   "cell_type": "markdown",
   "id": "daf3d7c1-1ea2-4ca4-b858-b1c755156bbf",
   "metadata": {},
   "source": [
    "## KNN"
   ]
  },
  {
   "cell_type": "markdown",
   "id": "b13bf4c7-3bc2-4dea-bf13-256f5568ef7e",
   "metadata": {},
   "source": [
    "### Modèle entrainée sur données 'complètes'"
   ]
  },
  {
   "cell_type": "code",
   "execution_count": 73,
   "id": "e5be2b50-2c13-48fc-87c4-a2ee450f4532",
   "metadata": {},
   "outputs": [
    {
     "data": {
      "text/html": [
       "<div>\n",
       "<style scoped>\n",
       "    .dataframe tbody tr th:only-of-type {\n",
       "        vertical-align: middle;\n",
       "    }\n",
       "\n",
       "    .dataframe tbody tr th {\n",
       "        vertical-align: top;\n",
       "    }\n",
       "\n",
       "    .dataframe thead th {\n",
       "        text-align: right;\n",
       "    }\n",
       "</style>\n",
       "<table border=\"1\" class=\"dataframe\">\n",
       "  <thead>\n",
       "    <tr style=\"text-align: right;\">\n",
       "      <th></th>\n",
       "      <th>nutriscore_grade</th>\n",
       "      <th>pnns_group</th>\n",
       "      <th>energy_kj</th>\n",
       "      <th>sugars</th>\n",
       "      <th>fat</th>\n",
       "      <th>saturated_fat</th>\n",
       "      <th>sodium</th>\n",
       "      <th>fiber</th>\n",
       "      <th>proteins</th>\n",
       "      <th>fruits_vegetables</th>\n",
       "    </tr>\n",
       "  </thead>\n",
       "  <tbody>\n",
       "    <tr>\n",
       "      <th>0</th>\n",
       "      <td>unknown</td>\n",
       "      <td>unknown</td>\n",
       "      <td>1569.0</td>\n",
       "      <td>15.0</td>\n",
       "      <td>7.0</td>\n",
       "      <td>3.08</td>\n",
       "      <td>0.560</td>\n",
       "      <td>0.0</td>\n",
       "      <td>7.8</td>\n",
       "      <td>0.0</td>\n",
       "    </tr>\n",
       "    <tr>\n",
       "      <th>2</th>\n",
       "      <td>d</td>\n",
       "      <td>dressings and sauces</td>\n",
       "      <td>936.0</td>\n",
       "      <td>22.0</td>\n",
       "      <td>8.2</td>\n",
       "      <td>2.20</td>\n",
       "      <td>1.840</td>\n",
       "      <td>0.0</td>\n",
       "      <td>5.1</td>\n",
       "      <td>0.0</td>\n",
       "    </tr>\n",
       "    <tr>\n",
       "      <th>4</th>\n",
       "      <td>unknown</td>\n",
       "      <td>unknown</td>\n",
       "      <td>88.0</td>\n",
       "      <td>0.4</td>\n",
       "      <td>0.0</td>\n",
       "      <td>0.00</td>\n",
       "      <td>0.816</td>\n",
       "      <td>0.0</td>\n",
       "      <td>0.2</td>\n",
       "      <td>0.0</td>\n",
       "    </tr>\n",
       "    <tr>\n",
       "      <th>5</th>\n",
       "      <td>unknown</td>\n",
       "      <td>unknown</td>\n",
       "      <td>251.0</td>\n",
       "      <td>3.0</td>\n",
       "      <td>3.0</td>\n",
       "      <td>1.00</td>\n",
       "      <td>0.460</td>\n",
       "      <td>0.0</td>\n",
       "      <td>2.0</td>\n",
       "      <td>0.0</td>\n",
       "    </tr>\n",
       "    <tr>\n",
       "      <th>11</th>\n",
       "      <td>unknown</td>\n",
       "      <td>unknown</td>\n",
       "      <td>264.0</td>\n",
       "      <td>15.5</td>\n",
       "      <td>0.0</td>\n",
       "      <td>0.00</td>\n",
       "      <td>0.000</td>\n",
       "      <td>0.0</td>\n",
       "      <td>0.2</td>\n",
       "      <td>0.0</td>\n",
       "    </tr>\n",
       "    <tr>\n",
       "      <th>...</th>\n",
       "      <td>...</td>\n",
       "      <td>...</td>\n",
       "      <td>...</td>\n",
       "      <td>...</td>\n",
       "      <td>...</td>\n",
       "      <td>...</td>\n",
       "      <td>...</td>\n",
       "      <td>...</td>\n",
       "      <td>...</td>\n",
       "      <td>...</td>\n",
       "    </tr>\n",
       "    <tr>\n",
       "      <th>787652</th>\n",
       "      <td>b</td>\n",
       "      <td>cereals</td>\n",
       "      <td>1469.0</td>\n",
       "      <td>0.0</td>\n",
       "      <td>0.5</td>\n",
       "      <td>0.00</td>\n",
       "      <td>0.000</td>\n",
       "      <td>0.0</td>\n",
       "      <td>7.0</td>\n",
       "      <td>0.0</td>\n",
       "    </tr>\n",
       "    <tr>\n",
       "      <th>787654</th>\n",
       "      <td>unknown</td>\n",
       "      <td>unknown</td>\n",
       "      <td>1556.0</td>\n",
       "      <td>54.0</td>\n",
       "      <td>11.0</td>\n",
       "      <td>1.30</td>\n",
       "      <td>0.008</td>\n",
       "      <td>0.0</td>\n",
       "      <td>6.3</td>\n",
       "      <td>0.0</td>\n",
       "    </tr>\n",
       "    <tr>\n",
       "      <th>787655</th>\n",
       "      <td>d</td>\n",
       "      <td>unknown</td>\n",
       "      <td>1393.0</td>\n",
       "      <td>10.4</td>\n",
       "      <td>20.2</td>\n",
       "      <td>6.00</td>\n",
       "      <td>0.440</td>\n",
       "      <td>0.0</td>\n",
       "      <td>7.4</td>\n",
       "      <td>0.0</td>\n",
       "    </tr>\n",
       "    <tr>\n",
       "      <th>787656</th>\n",
       "      <td>a</td>\n",
       "      <td>meat</td>\n",
       "      <td>548.0</td>\n",
       "      <td>0.0</td>\n",
       "      <td>5.0</td>\n",
       "      <td>2.30</td>\n",
       "      <td>0.072</td>\n",
       "      <td>0.0</td>\n",
       "      <td>21.5</td>\n",
       "      <td>0.0</td>\n",
       "    </tr>\n",
       "    <tr>\n",
       "      <th>787658</th>\n",
       "      <td>unknown</td>\n",
       "      <td>unknown</td>\n",
       "      <td>0.0</td>\n",
       "      <td>7.8</td>\n",
       "      <td>0.2</td>\n",
       "      <td>0.10</td>\n",
       "      <td>0.060</td>\n",
       "      <td>0.0</td>\n",
       "      <td>5.5</td>\n",
       "      <td>0.0</td>\n",
       "    </tr>\n",
       "  </tbody>\n",
       "</table>\n",
       "<p>606572 rows × 10 columns</p>\n",
       "</div>"
      ],
      "text/plain": [
       "       nutriscore_grade            pnns_group  energy_kj  sugars   fat  \\\n",
       "0               unknown               unknown     1569.0    15.0   7.0   \n",
       "2                     d  dressings and sauces      936.0    22.0   8.2   \n",
       "4               unknown               unknown       88.0     0.4   0.0   \n",
       "5               unknown               unknown      251.0     3.0   3.0   \n",
       "11              unknown               unknown      264.0    15.5   0.0   \n",
       "...                 ...                   ...        ...     ...   ...   \n",
       "787652                b               cereals     1469.0     0.0   0.5   \n",
       "787654          unknown               unknown     1556.0    54.0  11.0   \n",
       "787655                d               unknown     1393.0    10.4  20.2   \n",
       "787656                a                  meat      548.0     0.0   5.0   \n",
       "787658          unknown               unknown        0.0     7.8   0.2   \n",
       "\n",
       "        saturated_fat  sodium  fiber  proteins  fruits_vegetables  \n",
       "0                3.08   0.560    0.0       7.8                0.0  \n",
       "2                2.20   1.840    0.0       5.1                0.0  \n",
       "4                0.00   0.816    0.0       0.2                0.0  \n",
       "5                1.00   0.460    0.0       2.0                0.0  \n",
       "11               0.00   0.000    0.0       0.2                0.0  \n",
       "...               ...     ...    ...       ...                ...  \n",
       "787652           0.00   0.000    0.0       7.0                0.0  \n",
       "787654           1.30   0.008    0.0       6.3                0.0  \n",
       "787655           6.00   0.440    0.0       7.4                0.0  \n",
       "787656           2.30   0.072    0.0      21.5                0.0  \n",
       "787658           0.10   0.060    0.0       5.5                0.0  \n",
       "\n",
       "[606572 rows x 10 columns]"
      ]
     },
     "execution_count": 73,
     "metadata": {},
     "output_type": "execute_result"
    }
   ],
   "source": [
    "datamulti"
   ]
  },
  {
   "cell_type": "code",
   "execution_count": 74,
   "id": "0ab6d3f8-9350-465b-b85e-83043df98e39",
   "metadata": {},
   "outputs": [],
   "source": [
    "datamultitrain = datamulti[datamulti.nutriscore_grade !='unknown'].copy()"
   ]
  },
  {
   "cell_type": "code",
   "execution_count": 75,
   "id": "a150f24a-139b-4c40-9ebf-34aab3a2e273",
   "metadata": {},
   "outputs": [
    {
     "data": {
      "text/plain": [
       "(273279, 10)"
      ]
     },
     "execution_count": 75,
     "metadata": {},
     "output_type": "execute_result"
    }
   ],
   "source": [
    "datamultitrain.shape"
   ]
  },
  {
   "cell_type": "code",
   "execution_count": 76,
   "id": "273fbdd3-c110-4d00-942d-faba63fba203",
   "metadata": {},
   "outputs": [
    {
     "data": {
      "text/plain": [
       "['energy_kj',\n",
       " 'sugars',\n",
       " 'fat',\n",
       " 'saturated_fat',\n",
       " 'sodium',\n",
       " 'fiber',\n",
       " 'proteins',\n",
       " 'fruits_vegetables']"
      ]
     },
     "execution_count": 76,
     "metadata": {},
     "output_type": "execute_result"
    }
   ],
   "source": [
    "utiles"
   ]
  },
  {
   "cell_type": "code",
   "execution_count": 77,
   "id": "3a9fd3a2-846a-4627-b776-9518d99404ee",
   "metadata": {},
   "outputs": [],
   "source": [
    "#utiliser pca"
   ]
  },
  {
   "cell_type": "code",
   "execution_count": 78,
   "id": "14110132-ebe1-4ee7-9dff-2f7afd2feca2",
   "metadata": {},
   "outputs": [],
   "source": [
    "X = pca5.transform(datamultitrain.loc[:,utiles])\n",
    "#remettre X = StandardScaler().fit_transform(X) ?"
   ]
  },
  {
   "cell_type": "code",
   "execution_count": 79,
   "id": "10400f4b-63ab-44a7-b22d-3036f1cb125d",
   "metadata": {},
   "outputs": [
    {
     "data": {
      "text/plain": [
       "array([[ 5.39517672e+02, -1.64580548e+02,  6.95807649e+01,\n",
       "         5.67690046e+00,  1.06055979e+02],\n",
       "       [ 7.66853409e+01, -2.40502099e+01,  9.99839942e+00,\n",
       "         6.71484639e-01,  1.54650099e+01],\n",
       "       [ 9.28367966e+02, -2.72532789e+02,  1.21750367e+02,\n",
       "         8.07013743e+00,  1.74340164e+02],\n",
       "       ...,\n",
       "       [ 8.35272407e+02, -2.36533341e+02,  1.12393694e+02,\n",
       "         4.10940502e+00,  1.55474461e+02],\n",
       "       [ 8.07688677e+02, -2.30041775e+02,  1.05027750e+02,\n",
       "         6.51271228e+00,  1.48296905e+02],\n",
       "       [ 3.18722575e+02, -7.71576738e+01,  4.58653814e+01,\n",
       "        -3.02029441e-01,  5.49261301e+01]])"
      ]
     },
     "execution_count": 79,
     "metadata": {},
     "output_type": "execute_result"
    }
   ],
   "source": [
    "X"
   ]
  },
  {
   "cell_type": "code",
   "execution_count": 80,
   "id": "cace3c42-8f82-4ad2-a7a2-f392d25ca6c8",
   "metadata": {},
   "outputs": [],
   "source": [
    "Y = datamultitrain['nutriscore_grade']"
   ]
  },
  {
   "cell_type": "code",
   "execution_count": 81,
   "id": "5839ad4d-2392-4ac1-a0e1-52232bf64dbc",
   "metadata": {},
   "outputs": [],
   "source": [
    "from sklearn.model_selection import train_test_split\n",
    "\n",
    "xtrain, xtest, ytrain, ytest = train_test_split(X, Y, train_size=0.8)"
   ]
  },
  {
   "cell_type": "code",
   "execution_count": 82,
   "id": "ae3261c9-5b5e-4cf3-ab30-9b09f6f2c3cb",
   "metadata": {},
   "outputs": [],
   "source": [
    "from sklearn import model_selection, neighbors, metrics\n",
    "\n",
    "#valeur hyperparametres knn\n",
    "param_grid = {'n_neighbors' : [2,3,4,5,6,7,8,9,10,11,12,13,14,15,20,40,50,100,200,300,400,500]}\n",
    "\n",
    "classifier = model_selection.GridSearchCV(neighbors.KNeighborsClassifier(),#utilisation de knn\n",
    "                                         param_grid = param_grid, #liste des hyperparametres\n",
    "                                         cv = 5, #crossvalidation segmentation\n",
    "                                         scoring = 'accuracy')"
   ]
  },
  {
   "cell_type": "code",
   "execution_count": 83,
   "id": "2b5441b4-443a-4ead-a5dc-86cc7b809c9c",
   "metadata": {},
   "outputs": [
    {
     "data": {
      "text/plain": [
       "GridSearchCV(cv=5, estimator=KNeighborsClassifier(),\n",
       "             param_grid={'n_neighbors': [2, 3, 4, 5, 6, 7, 8, 9, 10, 11, 12, 13,\n",
       "                                         14, 15, 20, 40, 50, 100, 200, 300, 400,\n",
       "                                         500]},\n",
       "             scoring='accuracy')"
      ]
     },
     "execution_count": 83,
     "metadata": {},
     "output_type": "execute_result"
    }
   ],
   "source": [
    "classifier.fit(xtrain, ytrain)"
   ]
  },
  {
   "cell_type": "code",
   "execution_count": 84,
   "id": "87cb93d3-64aa-49ce-973e-8d9369c74cb0",
   "metadata": {},
   "outputs": [
    {
     "data": {
      "text/plain": [
       "{'n_neighbors': 3}"
      ]
     },
     "execution_count": 84,
     "metadata": {},
     "output_type": "execute_result"
    }
   ],
   "source": [
    "classifier.best_params_"
   ]
  },
  {
   "cell_type": "code",
   "execution_count": 85,
   "id": "ff5897a3-8947-46a1-8e32-2ee952491453",
   "metadata": {
    "tags": []
   },
   "outputs": [
    {
     "data": {
      "text/plain": [
       "{'mean_fit_time': array([0.44470277, 0.45131459, 0.44981036, 0.45121145, 0.45031366,\n",
       "        0.44501367, 0.45131474, 0.44380474, 0.44790788, 0.44830794,\n",
       "        0.44810963, 0.4434412 , 0.45111074, 0.45021791, 0.44756398,\n",
       "        0.44894357, 0.44448485, 0.44608016, 0.44649649, 0.44301138,\n",
       "        0.44775491, 0.44707713]),\n",
       " 'std_fit_time': array([0.01583492, 0.00772962, 0.00784415, 0.00480641, 0.00707538,\n",
       "        0.00950631, 0.00923941, 0.00643487, 0.00710695, 0.0039331 ,\n",
       "        0.0033454 , 0.0067795 , 0.00710185, 0.01324993, 0.00898843,\n",
       "        0.00671382, 0.00618338, 0.00720686, 0.00799599, 0.00232439,\n",
       "        0.00800313, 0.01017359]),\n",
       " 'mean_score_time': array([1.14205213, 1.16335526, 1.18417797, 1.19799099, 1.21680779,\n",
       "        1.23422585, 1.24693475, 1.24853802, 1.27796259, 1.2765687 ,\n",
       "        1.29568276, 1.32454324, 1.33429337, 1.33156614, 1.38367996,\n",
       "        1.58262091, 1.67656155, 2.13139968, 2.97607656, 3.82953296,\n",
       "        4.70679893, 5.49825301]),\n",
       " 'std_score_time': array([0.00465508, 0.00246277, 0.00725612, 0.00254006, 0.00542484,\n",
       "        0.01237325, 0.01598065, 0.00215735, 0.01460211, 0.00500814,\n",
       "        0.01235473, 0.0261874 , 0.0187791 , 0.00892885, 0.00660282,\n",
       "        0.00456399, 0.00589694, 0.00642353, 0.00881427, 0.01281098,\n",
       "        0.03558711, 0.02913845]),\n",
       " 'param_n_neighbors': masked_array(data=[2, 3, 4, 5, 6, 7, 8, 9, 10, 11, 12, 13, 14, 15, 20, 40,\n",
       "                    50, 100, 200, 300, 400, 500],\n",
       "              mask=[False, False, False, False, False, False, False, False,\n",
       "                    False, False, False, False, False, False, False, False,\n",
       "                    False, False, False, False, False, False],\n",
       "        fill_value='?',\n",
       "             dtype=object),\n",
       " 'params': [{'n_neighbors': 2},\n",
       "  {'n_neighbors': 3},\n",
       "  {'n_neighbors': 4},\n",
       "  {'n_neighbors': 5},\n",
       "  {'n_neighbors': 6},\n",
       "  {'n_neighbors': 7},\n",
       "  {'n_neighbors': 8},\n",
       "  {'n_neighbors': 9},\n",
       "  {'n_neighbors': 10},\n",
       "  {'n_neighbors': 11},\n",
       "  {'n_neighbors': 12},\n",
       "  {'n_neighbors': 13},\n",
       "  {'n_neighbors': 14},\n",
       "  {'n_neighbors': 15},\n",
       "  {'n_neighbors': 20},\n",
       "  {'n_neighbors': 40},\n",
       "  {'n_neighbors': 50},\n",
       "  {'n_neighbors': 100},\n",
       "  {'n_neighbors': 200},\n",
       "  {'n_neighbors': 300},\n",
       "  {'n_neighbors': 400},\n",
       "  {'n_neighbors': 500}],\n",
       " 'split0_test_score': array([0.706255  , 0.71890223, 0.71611206, 0.71663808, 0.71153802,\n",
       "        0.71329903, 0.70931961, 0.70742138, 0.70238994, 0.70316752,\n",
       "        0.70017153, 0.69925672, 0.69667238, 0.69637507, 0.68919383,\n",
       "        0.67039451, 0.66186392, 0.63668382, 0.60603774, 0.5914008 ,\n",
       "        0.58108634, 0.5728988 ]),\n",
       " 'split1_test_score': array([0.70543168, 0.71833047, 0.71679817, 0.71634077, 0.70938822,\n",
       "        0.71014294, 0.70591195, 0.70554603, 0.70399085, 0.70259577,\n",
       "        0.69975986, 0.69932533, 0.6965809 , 0.69497999, 0.68994854,\n",
       "        0.66829045, 0.65978273, 0.6343968 , 0.60297313, 0.58769583,\n",
       "        0.57694683, 0.56928531]),\n",
       " 'split2_test_score': array([0.70572899, 0.72317896, 0.71986278, 0.72210406, 0.71620354,\n",
       "        0.71579188, 0.71272727, 0.71137793, 0.70781018, 0.70584334,\n",
       "        0.70389937, 0.70209262, 0.69985134, 0.69813608, 0.69056604,\n",
       "        0.66931961, 0.65975986, 0.63034877, 0.60269868, 0.58511149,\n",
       "        0.57637507, 0.56766152]),\n",
       " 'split3_test_score': array([0.708421  , 0.72051962, 0.71919312, 0.7203824 , 0.7147562 ,\n",
       "        0.71557954, 0.71093679, 0.7100677 , 0.70707163, 0.70643125,\n",
       "        0.70311499, 0.70155978, 0.6995929 , 0.69895252, 0.69149666,\n",
       "        0.67210228, 0.66496661, 0.63784192, 0.60849876, 0.58903577,\n",
       "        0.58059647, 0.57201994]),\n",
       " 'split4_test_score': array([0.7093587 , 0.72145732, 0.71846126, 0.72104565, 0.71521361,\n",
       "        0.7155338 , 0.71292654, 0.70876407, 0.70780349, 0.70544781,\n",
       "        0.70421279, 0.70229165, 0.70043912, 0.69819779, 0.69135944,\n",
       "        0.67141616, 0.66398317, 0.6356692 , 0.60486232, 0.58963041,\n",
       "        0.58011618, 0.57259171]),\n",
       " 'mean_test_score': array([0.70703908, 0.72047772, 0.71808548, 0.71930219, 0.71341992,\n",
       "        0.71406944, 0.71036443, 0.70863542, 0.70581322, 0.70469714,\n",
       "        0.70223171, 0.70090522, 0.69862733, 0.69732829, 0.6905129 ,\n",
       "        0.6703046 , 0.66207126, 0.6349881 , 0.60501413, 0.58857486,\n",
       "        0.57902418, 0.57089146]),\n",
       " 'std_test_score': array([0.00156239, 0.00175219, 0.00141975, 0.00236324, 0.00255138,\n",
       "        0.00216345, 0.00258423, 0.00203015, 0.00221687, 0.00152577,\n",
       "        0.00188893, 0.00133971, 0.00165667, 0.00144705, 0.00086553,\n",
       "        0.00137857, 0.00212891, 0.00258289, 0.00213263, 0.00210144,\n",
       "        0.00196215, 0.00205942]),\n",
       " 'rank_test_score': array([ 8,  1,  3,  2,  5,  4,  6,  7,  9, 10, 11, 12, 13, 14, 15, 16, 17,\n",
       "        18, 19, 20, 21, 22])}"
      ]
     },
     "execution_count": 85,
     "metadata": {},
     "output_type": "execute_result"
    }
   ],
   "source": [
    "classifier.cv_results_"
   ]
  },
  {
   "cell_type": "code",
   "execution_count": 86,
   "id": "4451e60f-a867-4322-ab07-278f71f00ba9",
   "metadata": {},
   "outputs": [],
   "source": [
    "ypred = classifier.predict(xtest)"
   ]
  },
  {
   "cell_type": "code",
   "execution_count": 87,
   "id": "679a0e1f-7f03-4c74-9dd0-ab4a83776270",
   "metadata": {},
   "outputs": [
    {
     "data": {
      "text/plain": [
       "0.7314110070257611"
      ]
     },
     "execution_count": 87,
     "metadata": {},
     "output_type": "execute_result"
    }
   ],
   "source": [
    "metrics.accuracy_score(ytest, ypred)"
   ]
  },
  {
   "cell_type": "code",
   "execution_count": null,
   "id": "c299531d-6e7f-4072-97e1-c94880f90ecf",
   "metadata": {},
   "outputs": [],
   "source": [
    "# 3nn, 5nn ?"
   ]
  },
  {
   "cell_type": "markdown",
   "id": "b4d6b30a-7e79-4ef8-94cd-dce2071df7d0",
   "metadata": {},
   "source": [
    "### Test sur données 'incomplètes'"
   ]
  },
  {
   "cell_type": "code",
   "execution_count": null,
   "id": "debf0179-f3f1-4f0b-9fd5-51d1209756d7",
   "metadata": {},
   "outputs": [],
   "source": [
    "dataclean2"
   ]
  },
  {
   "cell_type": "code",
   "execution_count": null,
   "id": "5a77aeeb-96fc-4e87-9d96-8e9a43e5be77",
   "metadata": {},
   "outputs": [],
   "source": [
    "test2 = dataclean2[dataclean2.info_nutri_complete == 0]"
   ]
  },
  {
   "cell_type": "code",
   "execution_count": null,
   "id": "bb021f8b-1c6a-4707-b7df-6d5339a2f876",
   "metadata": {},
   "outputs": [],
   "source": [
    "test2.info()"
   ]
  },
  {
   "cell_type": "code",
   "execution_count": null,
   "id": "a74894b5-c078-448e-8f0d-5b5067d99e03",
   "metadata": {},
   "outputs": [],
   "source": [
    "#que des produits sans aucune données, on aurait pu les enlever en amont car inutiles du coup"
   ]
  },
  {
   "cell_type": "markdown",
   "id": "267b5c44-0e82-496c-9490-66f65d8de7d8",
   "metadata": {},
   "source": [
    "### Categories ?"
   ]
  },
  {
   "cell_type": "code",
   "execution_count": null,
   "id": "d81942d5-3a0a-42f9-98b5-fba22a53e580",
   "metadata": {},
   "outputs": [],
   "source": [
    "datamultitraincat = datamulti[datamulti.pnns_group !='unknown'].copy()"
   ]
  },
  {
   "cell_type": "code",
   "execution_count": null,
   "id": "e103a574-38dc-4e05-a1dc-582384b18c48",
   "metadata": {},
   "outputs": [],
   "source": [
    "#à faire avant de filtrerr sur nutri et cat pour eviter repetition\n",
    "X2 = pca5.transform(datamultitraincat.loc[:,utiles])\n",
    "X2 = StandardScaler().fit_transform(X2) "
   ]
  },
  {
   "cell_type": "code",
   "execution_count": null,
   "id": "27d97762-34d5-427e-a031-77dc3b862ef5",
   "metadata": {},
   "outputs": [],
   "source": [
    "Y2 = datamultitraincat['pnns_group']"
   ]
  },
  {
   "cell_type": "code",
   "execution_count": null,
   "id": "d486cd90-b72a-4b36-94d0-1a32750105f5",
   "metadata": {},
   "outputs": [],
   "source": [
    "xtraincat, xtestcat, ytraincat, ytestcat = train_test_split(X2, Y2, train_size=0.8)"
   ]
  },
  {
   "cell_type": "code",
   "execution_count": null,
   "id": "90749db6-6981-4c25-af26-344a67ec2bf8",
   "metadata": {},
   "outputs": [],
   "source": [
    "param_grid = {'n_neighbors' : [2,3,4,5,6,7,8,9,10,11,12,13,14,15,20,40,50,100,200,300,400,500]}\n",
    "\n",
    "classifiercat = model_selection.GridSearchCV(neighbors.KNeighborsClassifier(),#utilisation de knn\n",
    "                                         param_grid = param_grid, #liste des hyperparametres\n",
    "                                         cv = 5, #crossvalidation segmentation\n",
    "                                         scoring = 'accuracy')"
   ]
  },
  {
   "cell_type": "code",
   "execution_count": null,
   "id": "284ccc00-c244-44f6-82c2-ec5fb8996e21",
   "metadata": {},
   "outputs": [],
   "source": [
    "classifiercat.fit(xtraincat, ytraincat)"
   ]
  },
  {
   "cell_type": "code",
   "execution_count": null,
   "id": "52167645-7064-46bc-adf9-298937047dea",
   "metadata": {},
   "outputs": [],
   "source": [
    "classifiercat.best_params_"
   ]
  },
  {
   "cell_type": "code",
   "execution_count": null,
   "id": "c3605178-4ad5-4eed-8841-f8db8a2409b9",
   "metadata": {},
   "outputs": [],
   "source": [
    "ypredcat = classifiercat.predict(xtestcat)"
   ]
  },
  {
   "cell_type": "code",
   "execution_count": null,
   "id": "01219b58-1899-4067-8066-97eaeb2bcb7c",
   "metadata": {},
   "outputs": [],
   "source": [
    "metrics.accuracy_score(ytestcat, ypredcat)"
   ]
  },
  {
   "cell_type": "code",
   "execution_count": null,
   "id": "70874d65-3baa-46e8-8dc1-581aafedfa6a",
   "metadata": {},
   "outputs": [],
   "source": []
  }
 ],
 "metadata": {
  "kernelspec": {
   "display_name": "Python 3 (ipykernel)",
   "language": "python",
   "name": "python3"
  },
  "language_info": {
   "codemirror_mode": {
    "name": "ipython",
    "version": 3
   },
   "file_extension": ".py",
   "mimetype": "text/x-python",
   "name": "python",
   "nbconvert_exporter": "python",
   "pygments_lexer": "ipython3",
   "version": "3.8.12"
  }
 },
 "nbformat": 4,
 "nbformat_minor": 5
}
